{
 "cells": [
  {
   "cell_type": "markdown",
   "metadata": {},
   "source": [
    "# Sparkify Project Workspace\n",
    "This workspace contains a tiny subset (128MB) of the full dataset available (12GB). Feel free to use this workspace to build your project, or to explore a smaller subset with Spark before deploying your cluster on the cloud. Instructions for setting up your Spark cluster is included in the last lesson of the Extracurricular Spark Course content.\n",
    "\n",
    "You can follow the steps below to guide your data analysis and model building portion of this project."
   ]
  },
  {
   "cell_type": "code",
   "execution_count": 1,
   "metadata": {},
   "outputs": [],
   "source": [
    "# import libraries\n",
    "import pyspark\n",
    "from pyspark import SparkConf\n",
    "#Import General Libraries\n",
    "import pandas as pd\n",
    "import matplotlib.pyplot as plt\n",
    "import seaborn as sns\n",
    "import datetime\n",
    "\n",
    "#Import possible Pyspark Library\n",
    "from pyspark.ml import pipeline\n",
    "from pyspark.ml.evaluation import MulticlassClassificationEvaluator\n",
    "from pyspark.ml.regression import LinearRegression\n",
    "from pyspark.ml.classification import LogisticRegression\n",
    "from pyspark.ml.classification import LinearSVC, NaiveBayes,RandomForestClassifier, DecisionTreeClassifier, GBTClassifier\n",
    "from pyspark.ml.tuning import CrossValidator, ParamGridBuilder\n",
    "from pyspark.ml.feature import CountVectorizer, IDF, StopWordsRemover, StringIndexer, Normalizer, RegexTokenizer, StandardScaler, VectorAssembler, PCA\n",
    "from pyspark.sql.types import IntegerType\n",
    "from pyspark.sql.functions import avg, explode, concat, lit, min, max, split, udf, isnull, col, desc\n",
    "from pyspark.sql import SparkSession, Window\n",
    "\n",
    "from sklearn.metrics import classification_report, confusion_matrix"
   ]
  },
  {
   "cell_type": "code",
   "execution_count": 2,
   "metadata": {},
   "outputs": [],
   "source": [
    "# create a Spark session\n",
    "spark = SparkSession \\\n",
    ".builder \\\n",
    ".appName(\"Sparkify\") \\\n",
    ".config(\"spark.sql.catalogImplementation\",\"hive\") \\\n",
    ".getOrCreate()\n",
    "\n",
    "# To display Spark session info\n"
   ]
  },
  {
   "cell_type": "code",
   "execution_count": 3,
   "metadata": {},
   "outputs": [
    {
     "data": {
      "text/plain": [
       "[('spark.app.id', 'local-1629251370715'),\n",
       " ('spark.driver.host', '192.168.0.212'),\n",
       " ('spark.sql.catalogImplementation', 'hive'),\n",
       " ('spark.driver.port', '45823'),\n",
       " ('spark.rdd.compress', 'True'),\n",
       " ('spark.app.name', 'Sparkify'),\n",
       " ('spark.serializer.objectStreamReset', '100'),\n",
       " ('spark.master', 'local[*]'),\n",
       " ('spark.submit.pyFiles', ''),\n",
       " ('spark.executor.id', 'driver'),\n",
       " ('spark.submit.deployMode', 'client'),\n",
       " ('spark.ui.showConsoleProgress', 'true')]"
      ]
     },
     "execution_count": 3,
     "metadata": {},
     "output_type": "execute_result"
    }
   ],
   "source": [
    "spark.sparkContext.getConf().getAll()"
   ]
  },
  {
   "cell_type": "code",
   "execution_count": 4,
   "metadata": {},
   "outputs": [
    {
     "data": {
      "text/html": [
       "\n",
       "            <div>\n",
       "                <p><b>SparkSession - hive</b></p>\n",
       "                \n",
       "        <div>\n",
       "            <p><b>SparkContext</b></p>\n",
       "\n",
       "            <p><a href=\"http://192.168.0.212:4040\">Spark UI</a></p>\n",
       "\n",
       "            <dl>\n",
       "              <dt>Version</dt>\n",
       "                <dd><code>v3.0.1</code></dd>\n",
       "              <dt>Master</dt>\n",
       "                <dd><code>local[*]</code></dd>\n",
       "              <dt>AppName</dt>\n",
       "                <dd><code>Sparkify</code></dd>\n",
       "            </dl>\n",
       "        </div>\n",
       "        \n",
       "            </div>\n",
       "        "
      ],
      "text/plain": [
       "<pyspark.sql.session.SparkSession at 0x7fa42e5f7110>"
      ]
     },
     "execution_count": 4,
     "metadata": {},
     "output_type": "execute_result"
    }
   ],
   "source": [
    "spark"
   ]
  },
  {
   "cell_type": "markdown",
   "metadata": {},
   "source": [
    "# Load and Clean Dataset\n",
    "In this workspace, the mini-dataset file is `mini_sparkify_event_data.json`. Load and clean the dataset, checking for invalid or missing data - for example, records without userids or sessionids. "
   ]
  },
  {
   "cell_type": "code",
   "execution_count": 5,
   "metadata": {},
   "outputs": [],
   "source": [
    "user_log = spark.read.json(\"mini_sparkify_event_data.json\")\n",
    "user_log.createOrReplaceTempView(\"user_log_table\")\n"
   ]
  },
  {
   "cell_type": "code",
   "execution_count": 6,
   "metadata": {},
   "outputs": [
    {
     "name": "stdout",
     "output_type": "stream",
     "text": [
      "+-------------+---------+-------+\n",
      "|     col_name|data_type|comment|\n",
      "+-------------+---------+-------+\n",
      "|       artist|   string|   null|\n",
      "|         auth|   string|   null|\n",
      "|    firstName|   string|   null|\n",
      "|       gender|   string|   null|\n",
      "|itemInSession|   bigint|   null|\n",
      "|     lastName|   string|   null|\n",
      "|       length|   double|   null|\n",
      "|        level|   string|   null|\n",
      "|     location|   string|   null|\n",
      "|       method|   string|   null|\n",
      "|         page|   string|   null|\n",
      "| registration|   bigint|   null|\n",
      "|    sessionId|   bigint|   null|\n",
      "|         song|   string|   null|\n",
      "|       status|   bigint|   null|\n",
      "|           ts|   bigint|   null|\n",
      "|    userAgent|   string|   null|\n",
      "|       userId|   string|   null|\n",
      "+-------------+---------+-------+\n",
      "\n"
     ]
    }
   ],
   "source": [
    "spark.sql(\"DESC user_log_table\").show()"
   ]
  },
  {
   "cell_type": "code",
   "execution_count": 7,
   "metadata": {},
   "outputs": [
    {
     "data": {
      "text/plain": [
       "DataFrame[artist: string, auth: string, firstName: string, gender: string, itemInSession: bigint, lastName: string, length: double, level: string, location: string, method: string, page: string, registration: bigint, sessionId: bigint, song: string, status: bigint, ts: bigint, userAgent: string, userId: string]"
      ]
     },
     "execution_count": 7,
     "metadata": {},
     "output_type": "execute_result"
    }
   ],
   "source": [
    "spark.sql(\"SELECT * FROM user_log_table LIMIT 5\")"
   ]
  },
  {
   "cell_type": "code",
   "execution_count": 8,
   "metadata": {},
   "outputs": [
    {
     "data": {
      "text/plain": [
       "[Row(artist='Martha Tilston', auth='Logged In', firstName='Colin', gender='M', itemInSession=50, lastName='Freeman', length=277.89016, level='paid', location='Bakersfield, CA', method='PUT', page='NextSong', registration=1538173362000, sessionId=29, song='Rockpools', status=200, ts=1538352117000, userAgent='Mozilla/5.0 (Windows NT 6.1; WOW64; rv:31.0) Gecko/20100101 Firefox/31.0', userId='30'),\n",
       " Row(artist='Five Iron Frenzy', auth='Logged In', firstName='Micah', gender='M', itemInSession=79, lastName='Long', length=236.09424, level='free', location='Boston-Cambridge-Newton, MA-NH', method='PUT', page='NextSong', registration=1538331630000, sessionId=8, song='Canada', status=200, ts=1538352180000, userAgent='\"Mozilla/5.0 (Windows NT 6.1; WOW64) AppleWebKit/537.36 (KHTML, like Gecko) Chrome/37.0.2062.103 Safari/537.36\"', userId='9'),\n",
       " Row(artist='Adam Lambert', auth='Logged In', firstName='Colin', gender='M', itemInSession=51, lastName='Freeman', length=282.8273, level='paid', location='Bakersfield, CA', method='PUT', page='NextSong', registration=1538173362000, sessionId=29, song='Time For Miracles', status=200, ts=1538352394000, userAgent='Mozilla/5.0 (Windows NT 6.1; WOW64; rv:31.0) Gecko/20100101 Firefox/31.0', userId='30'),\n",
       " Row(artist='Enigma', auth='Logged In', firstName='Micah', gender='M', itemInSession=80, lastName='Long', length=262.71302, level='free', location='Boston-Cambridge-Newton, MA-NH', method='PUT', page='NextSong', registration=1538331630000, sessionId=8, song='Knocking On Forbidden Doors', status=200, ts=1538352416000, userAgent='\"Mozilla/5.0 (Windows NT 6.1; WOW64) AppleWebKit/537.36 (KHTML, like Gecko) Chrome/37.0.2062.103 Safari/537.36\"', userId='9'),\n",
       " Row(artist='Daft Punk', auth='Logged In', firstName='Colin', gender='M', itemInSession=52, lastName='Freeman', length=223.60771, level='paid', location='Bakersfield, CA', method='PUT', page='NextSong', registration=1538173362000, sessionId=29, song='Harder Better Faster Stronger', status=200, ts=1538352676000, userAgent='Mozilla/5.0 (Windows NT 6.1; WOW64; rv:31.0) Gecko/20100101 Firefox/31.0', userId='30')]"
      ]
     },
     "execution_count": 8,
     "metadata": {},
     "output_type": "execute_result"
    }
   ],
   "source": [
    "spark.sql(\"SELECT * FROM user_log_table LIMIT 5\").collect()"
   ]
  },
  {
   "cell_type": "code",
   "execution_count": 9,
   "metadata": {},
   "outputs": [
    {
     "data": {
      "text/plain": [
       "[Row(userID='100010'),\n",
       " Row(userID='200002'),\n",
       " Row(userID='125'),\n",
       " Row(userID='51'),\n",
       " Row(userID='124'),\n",
       " Row(userID='7'),\n",
       " Row(userID='54'),\n",
       " Row(userID='15'),\n",
       " Row(userID='155'),\n",
       " Row(userID='132'),\n",
       " Row(userID='154'),\n",
       " Row(userID='100014'),\n",
       " Row(userID='101'),\n",
       " Row(userID='11'),\n",
       " Row(userID='138'),\n",
       " Row(userID='300017'),\n",
       " Row(userID='29'),\n",
       " Row(userID='69'),\n",
       " Row(userID='100021'),\n",
       " Row(userID='42'),\n",
       " Row(userID='112'),\n",
       " Row(userID='87'),\n",
       " Row(userID='73'),\n",
       " Row(userID='64'),\n",
       " Row(userID='200010'),\n",
       " Row(userID='3'),\n",
       " Row(userID='30'),\n",
       " Row(userID='113'),\n",
       " Row(userID='34'),\n",
       " Row(userID='133'),\n",
       " Row(userID='59'),\n",
       " Row(userID='146'),\n",
       " Row(userID='139'),\n",
       " Row(userID='8'),\n",
       " Row(userID='28'),\n",
       " Row(userID='22'),\n",
       " Row(userID='300018'),\n",
       " Row(userID='300012'),\n",
       " Row(userID='100022'),\n",
       " Row(userID='85'),\n",
       " Row(userID='52'),\n",
       " Row(userID='35'),\n",
       " Row(userID='16'),\n",
       " Row(userID='300008'),\n",
       " Row(userID='71'),\n",
       " Row(userID='98'),\n",
       " Row(userID='300013'),\n",
       " Row(userID='99'),\n",
       " Row(userID='47'),\n",
       " Row(userID='100008'),\n",
       " Row(userID='100025'),\n",
       " Row(userID='110'),\n",
       " Row(userID='107'),\n",
       " Row(userID='300006'),\n",
       " Row(userID='300002'),\n",
       " Row(userID='96'),\n",
       " Row(userID='43'),\n",
       " Row(userID='300007'),\n",
       " Row(userID='5'),\n",
       " Row(userID='100'),\n",
       " Row(userID='100006'),\n",
       " Row(userID='18'),\n",
       " Row(userID='70'),\n",
       " Row(userID='100005'),\n",
       " Row(userID='27'),\n",
       " Row(userID='61'),\n",
       " Row(userID='75'),\n",
       " Row(userID='131'),\n",
       " Row(userID='126'),\n",
       " Row(userID='140'),\n",
       " Row(userID='17'),\n",
       " Row(userID='26'),\n",
       " Row(userID='100007'),\n",
       " Row(userID='120'),\n",
       " Row(userID='200007'),\n",
       " Row(userID='46'),\n",
       " Row(userID='300004'),\n",
       " Row(userID='147'),\n",
       " Row(userID='300001'),\n",
       " Row(userID='78'),\n",
       " Row(userID='300015'),\n",
       " Row(userID='77'),\n",
       " Row(userID='89'),\n",
       " Row(userID='136'),\n",
       " Row(userID='6'),\n",
       " Row(userID='118'),\n",
       " Row(userID='300019'),\n",
       " Row(userID='200014'),\n",
       " Row(userID='100009'),\n",
       " Row(userID='300011'),\n",
       " Row(userID='90'),\n",
       " Row(userID='104'),\n",
       " Row(userID='68'),\n",
       " Row(userID='60'),\n",
       " Row(userID='100004'),\n",
       " Row(userID='200003'),\n",
       " Row(userID='100015'),\n",
       " Row(userID='19'),\n",
       " Row(userID='300023'),\n",
       " Row(userID='300024'),\n",
       " Row(userID='41'),\n",
       " Row(userID='128'),\n",
       " Row(userID='23'),\n",
       " Row(userID='200024'),\n",
       " Row(userID='102'),\n",
       " Row(userID='55'),\n",
       " Row(userID='200008'),\n",
       " Row(userID='111'),\n",
       " Row(userID='100016'),\n",
       " Row(userID='100003'),\n",
       " Row(userID='95'),\n",
       " Row(userID='93'),\n",
       " Row(userID='40'),\n",
       " Row(userID='38'),\n",
       " Row(userID='103'),\n",
       " Row(userID='200005'),\n",
       " Row(userID='25'),\n",
       " Row(userID='200009'),\n",
       " Row(userID='135'),\n",
       " Row(userID='44'),\n",
       " Row(userID='156'),\n",
       " Row(userID='144'),\n",
       " Row(userID='100024'),\n",
       " Row(userID='115'),\n",
       " Row(userID='82'),\n",
       " Row(userID='200023'),\n",
       " Row(userID='53'),\n",
       " Row(userID='92'),\n",
       " Row(userID='122'),\n",
       " Row(userID='117'),\n",
       " Row(userID='108'),\n",
       " Row(userID='300010'),\n",
       " Row(userID='86'),\n",
       " Row(userID='200017'),\n",
       " Row(userID='58'),\n",
       " Row(userID='100011'),\n",
       " Row(userID='100019'),\n",
       " Row(userID='300014'),\n",
       " Row(userID='81'),\n",
       " Row(userID='33'),\n",
       " Row(userID='114'),\n",
       " Row(userID='150'),\n",
       " Row(userID='100012'),\n",
       " Row(userID='200018'),\n",
       " Row(userID='200025'),\n",
       " Row(userID='200016'),\n",
       " Row(userID='300003'),\n",
       " Row(userID='153'),\n",
       " Row(userID='200020'),\n",
       " Row(userID='141'),\n",
       " Row(userID='148'),\n",
       " Row(userID='97'),\n",
       " Row(userID='67'),\n",
       " Row(userID='106'),\n",
       " Row(userID='84'),\n",
       " Row(userID='143'),\n",
       " Row(userID='79'),\n",
       " Row(userID='300025'),\n",
       " Row(userID='9'),\n",
       " Row(userID='24'),\n",
       " Row(userID='32'),\n",
       " Row(userID='116'),\n",
       " Row(userID='152'),\n",
       " Row(userID='88'),\n",
       " Row(userID='134'),\n",
       " Row(userID='200001'),\n",
       " Row(userID='149'),\n",
       " Row(userID='105'),\n",
       " Row(userID='20'),\n",
       " Row(userID='200011'),\n",
       " Row(userID='200006'),\n",
       " Row(userID='100023'),\n",
       " Row(userID='142'),\n",
       " Row(userID='100013'),\n",
       " Row(userID='56'),\n",
       " Row(userID='127'),\n",
       " Row(userID='36'),\n",
       " Row(userID='300009'),\n",
       " Row(userID='10'),\n",
       " Row(userID='37'),\n",
       " Row(userID='300022'),\n",
       " Row(userID='49'),\n",
       " Row(userID='300021'),\n",
       " Row(userID='200004'),\n",
       " Row(userID='300005'),\n",
       " Row(userID='100017'),\n",
       " Row(userID='63'),\n",
       " Row(userID='300020'),\n",
       " Row(userID='65'),\n",
       " Row(userID='4'),\n",
       " Row(userID='121'),\n",
       " Row(userID='39'),\n",
       " Row(userID='200012'),\n",
       " Row(userID='62'),\n",
       " Row(userID='12'),\n",
       " Row(userID='83'),\n",
       " Row(userID=''),\n",
       " Row(userID='109'),\n",
       " Row(userID='123'),\n",
       " Row(userID='200022'),\n",
       " Row(userID='13'),\n",
       " Row(userID='200019'),\n",
       " Row(userID='14'),\n",
       " Row(userID='21'),\n",
       " Row(userID='66'),\n",
       " Row(userID='94'),\n",
       " Row(userID='91'),\n",
       " Row(userID='74'),\n",
       " Row(userID='137'),\n",
       " Row(userID='72'),\n",
       " Row(userID='300016'),\n",
       " Row(userID='151'),\n",
       " Row(userID='200015'),\n",
       " Row(userID='129'),\n",
       " Row(userID='76'),\n",
       " Row(userID='2'),\n",
       " Row(userID='80'),\n",
       " Row(userID='100018'),\n",
       " Row(userID='100002'),\n",
       " Row(userID='50'),\n",
       " Row(userID='145'),\n",
       " Row(userID='45'),\n",
       " Row(userID='57'),\n",
       " Row(userID='200021'),\n",
       " Row(userID='119'),\n",
       " Row(userID='100001')]"
      ]
     },
     "execution_count": 9,
     "metadata": {},
     "output_type": "execute_result"
    }
   ],
   "source": [
    "spark.sql(\"SELECT DISTINCT userID FROM user_log_table\").collect()\n"
   ]
  },
  {
   "cell_type": "code",
   "execution_count": 10,
   "metadata": {},
   "outputs": [
    {
     "name": "stdout",
     "output_type": "stream",
     "text": [
      "+----------------+\n",
      "|totalNullEntries|\n",
      "+----------------+\n",
      "|               0|\n",
      "+----------------+\n",
      "\n"
     ]
    }
   ],
   "source": [
    "spark.sql(\"SELECT COUNT(*) AS totalNullEntries FROM user_log_table WHERE userId IS NULL OR sessionId IS NULL\").show()"
   ]
  },
  {
   "cell_type": "code",
   "execution_count": 11,
   "metadata": {},
   "outputs": [
    {
     "name": "stdout",
     "output_type": "stream",
     "text": [
      "+------+----------+---------+------+-------------+--------+------+-----+--------+------+-----+------------+---------+----+------+-------------+---------+------+\n",
      "|artist|      auth|firstName|gender|itemInSession|lastName|length|level|location|method| page|registration|sessionId|song|status|           ts|userAgent|userId|\n",
      "+------+----------+---------+------+-------------+--------+------+-----+--------+------+-----+------------+---------+----+------+-------------+---------+------+\n",
      "|  null|Logged Out|     null|  null|          100|    null|  null| free|    null|   GET| Home|        null|        8|null|   200|1538355745000|     null|      |\n",
      "|  null|Logged Out|     null|  null|          101|    null|  null| free|    null|   GET| Help|        null|        8|null|   200|1538355807000|     null|      |\n",
      "|  null|Logged Out|     null|  null|          102|    null|  null| free|    null|   GET| Home|        null|        8|null|   200|1538355841000|     null|      |\n",
      "|  null|Logged Out|     null|  null|          103|    null|  null| free|    null|   PUT|Login|        null|        8|null|   307|1538355842000|     null|      |\n",
      "|  null|Logged Out|     null|  null|            2|    null|  null| free|    null|   GET| Home|        null|      240|null|   200|1538356678000|     null|      |\n",
      "|  null|Logged Out|     null|  null|            3|    null|  null| free|    null|   PUT|Login|        null|      240|null|   307|1538356679000|     null|      |\n",
      "|  null|Logged Out|     null|  null|            0|    null|  null| free|    null|   PUT|Login|        null|      100|null|   307|1538358102000|     null|      |\n",
      "|  null|Logged Out|     null|  null|            0|    null|  null| free|    null|   PUT|Login|        null|      241|null|   307|1538360117000|     null|      |\n",
      "|  null|Logged Out|     null|  null|           14|    null|  null| free|    null|   GET| Home|        null|      187|null|   200|1538361527000|     null|      |\n",
      "|  null|Logged Out|     null|  null|           15|    null|  null| free|    null|   PUT|Login|        null|      187|null|   307|1538361528000|     null|      |\n",
      "|  null|Logged Out|     null|  null|           21|    null|  null| free|    null|   GET| Home|        null|      187|null|   200|1538362007000|     null|      |\n",
      "|  null|Logged Out|     null|  null|           22|    null|  null| free|    null|   GET| Home|        null|      187|null|   200|1538362095000|     null|      |\n",
      "|  null|Logged Out|     null|  null|           23|    null|  null| free|    null|   PUT|Login|        null|      187|null|   307|1538362096000|     null|      |\n",
      "|  null|Logged Out|     null|  null|            0|    null|  null| free|    null|   GET| Home|        null|       27|null|   200|1538363488000|     null|      |\n",
      "|  null|Logged Out|     null|  null|            1|    null|  null| free|    null|   GET|About|        null|       27|null|   200|1538363494000|     null|      |\n",
      "|  null|Logged Out|     null|  null|            2|    null|  null| free|    null|   GET| Home|        null|       27|null|   200|1538363503000|     null|      |\n",
      "|  null|Logged Out|     null|  null|           38|    null|  null| free|    null|   GET| Home|        null|      187|null|   200|1538364254000|     null|      |\n",
      "|  null|Logged Out|     null|  null|           39|    null|  null| free|    null|   PUT|Login|        null|      187|null|   307|1538364255000|     null|      |\n",
      "|  null|Logged Out|     null|  null|            0|    null|  null| free|    null|   GET| Home|        null|      257|null|   200|1538364750000|     null|      |\n",
      "|  null|Logged Out|     null|  null|           47|    null|  null| free|    null|   GET| Home|        null|      100|null|   200|1538370681000|     null|      |\n",
      "+------+----------+---------+------+-------------+--------+------+-----+--------+------+-----+------------+---------+----+------+-------------+---------+------+\n",
      "only showing top 20 rows\n",
      "\n"
     ]
    }
   ],
   "source": [
    "spark.sql(\"SELECT * FROM user_log_table WHERE userId = ''\").show()"
   ]
  },
  {
   "cell_type": "code",
   "execution_count": null,
   "metadata": {},
   "outputs": [],
   "source": []
  },
  {
   "cell_type": "code",
   "execution_count": 12,
   "metadata": {},
   "outputs": [
    {
     "name": "stdout",
     "output_type": "stream",
     "text": [
      "+------+----+---------+------+-------------+--------+------+-----+--------+------+----+------------+---------+----+------+---+---------+------+\n",
      "|artist|auth|firstName|gender|itemInSession|lastName|length|level|location|method|page|registration|sessionId|song|status| ts|userAgent|userId|\n",
      "+------+----+---------+------+-------------+--------+------+-----+--------+------+----+------------+---------+----+------+---+---------+------+\n",
      "+------+----+---------+------+-------------+--------+------+-----+--------+------+----+------------+---------+----+------+---+---------+------+\n",
      "\n"
     ]
    }
   ],
   "source": [
    "spark.sql(\"SELECT * FROM user_log_table WHERE sessionId = ''\").show()"
   ]
  },
  {
   "cell_type": "code",
   "execution_count": 13,
   "metadata": {},
   "outputs": [],
   "source": [
    "user_log_valid = spark.sql(\"SELECT * FROM user_log_table WHERE userId != ''\")\n",
    "user_log_valid.createOrReplaceTempView(\"user_log_valid_table\")\n",
    "user_log_valid = spark.sql(\"SELECT * FROM user_log_valid_table \")\n",
    "\n",
    "\n"
   ]
  },
  {
   "cell_type": "code",
   "execution_count": 14,
   "metadata": {},
   "outputs": [
    {
     "name": "stdout",
     "output_type": "stream",
     "text": [
      "+--------------------+---------+---------+------+-------------+--------+---------+-----+--------------------+------+---------------+-------------+---------+--------------------+------+-------------+--------------------+------+\n",
      "|              artist|     auth|firstName|gender|itemInSession|lastName|   length|level|            location|method|           page| registration|sessionId|                song|status|           ts|           userAgent|userId|\n",
      "+--------------------+---------+---------+------+-------------+--------+---------+-----+--------------------+------+---------------+-------------+---------+--------------------+------+-------------+--------------------+------+\n",
      "|      Martha Tilston|Logged In|    Colin|     M|           50| Freeman|277.89016| paid|     Bakersfield, CA|   PUT|       NextSong|1538173362000|       29|           Rockpools|   200|1538352117000|Mozilla/5.0 (Wind...|    30|\n",
      "|    Five Iron Frenzy|Logged In|    Micah|     M|           79|    Long|236.09424| free|Boston-Cambridge-...|   PUT|       NextSong|1538331630000|        8|              Canada|   200|1538352180000|\"Mozilla/5.0 (Win...|     9|\n",
      "|        Adam Lambert|Logged In|    Colin|     M|           51| Freeman| 282.8273| paid|     Bakersfield, CA|   PUT|       NextSong|1538173362000|       29|   Time For Miracles|   200|1538352394000|Mozilla/5.0 (Wind...|    30|\n",
      "|              Enigma|Logged In|    Micah|     M|           80|    Long|262.71302| free|Boston-Cambridge-...|   PUT|       NextSong|1538331630000|        8|Knocking On Forbi...|   200|1538352416000|\"Mozilla/5.0 (Win...|     9|\n",
      "|           Daft Punk|Logged In|    Colin|     M|           52| Freeman|223.60771| paid|     Bakersfield, CA|   PUT|       NextSong|1538173362000|       29|Harder Better Fas...|   200|1538352676000|Mozilla/5.0 (Wind...|    30|\n",
      "|The All-American ...|Logged In|    Micah|     M|           81|    Long|208.29995| free|Boston-Cambridge-...|   PUT|       NextSong|1538331630000|        8|      Don't Leave Me|   200|1538352678000|\"Mozilla/5.0 (Win...|     9|\n",
      "|The Velvet Underg...|Logged In|    Micah|     M|           82|    Long|260.46649| free|Boston-Cambridge-...|   PUT|       NextSong|1538331630000|        8|         Run Run Run|   200|1538352886000|\"Mozilla/5.0 (Win...|     9|\n",
      "|        Starflyer 59|Logged In|    Colin|     M|           53| Freeman|185.44281| paid|     Bakersfield, CA|   PUT|       NextSong|1538173362000|       29|Passengers (Old A...|   200|1538352899000|Mozilla/5.0 (Wind...|    30|\n",
      "|                null|Logged In|    Colin|     M|           54| Freeman|     null| paid|     Bakersfield, CA|   PUT|Add to Playlist|1538173362000|       29|                null|   200|1538352905000|Mozilla/5.0 (Wind...|    30|\n",
      "|            Frumpies|Logged In|    Colin|     M|           55| Freeman|134.47791| paid|     Bakersfield, CA|   PUT|       NextSong|1538173362000|       29|          Fuck Kitty|   200|1538353084000|Mozilla/5.0 (Wind...|    30|\n",
      "|        Britt Nicole|Logged In|    Micah|     M|           83|    Long| 229.8771| free|Boston-Cambridge-...|   PUT|       NextSong|1538331630000|        8|   Walk On The Water|   200|1538353146000|\"Mozilla/5.0 (Win...|     9|\n",
      "|                null|Logged In|    Micah|     M|           84|    Long|     null| free|Boston-Cambridge-...|   GET|    Roll Advert|1538331630000|        8|                null|   200|1538353150000|\"Mozilla/5.0 (Win...|     9|\n",
      "|Edward Sharpe & T...|Logged In|    Colin|     M|           56| Freeman|223.58159| paid|     Bakersfield, CA|   PUT|       NextSong|1538173362000|       29|                Jade|   200|1538353218000|Mozilla/5.0 (Wind...|    30|\n",
      "|               Tesla|Logged In|    Micah|     M|           85|    Long|201.06404| free|Boston-Cambridge-...|   PUT|       NextSong|1538331630000|        8|      Gettin' Better|   200|1538353375000|\"Mozilla/5.0 (Win...|     9|\n",
      "|                null|Logged In|    Micah|     M|           86|    Long|     null| free|Boston-Cambridge-...|   PUT|      Thumbs Up|1538331630000|        8|                null|   307|1538353376000|\"Mozilla/5.0 (Win...|     9|\n",
      "|         Stan Mosley|Logged In|    Colin|     M|           57| Freeman|246.69995| paid|     Bakersfield, CA|   PUT|       NextSong|1538173362000|       29|   So-Called Friends|   200|1538353441000|Mozilla/5.0 (Wind...|    30|\n",
      "|Florence + The Ma...|Logged In|    Micah|     M|           87|    Long|168.64608| free|Boston-Cambridge-...|   PUT|       NextSong|1538331630000|        8| You've Got The Love|   200|1538353576000|\"Mozilla/5.0 (Win...|     9|\n",
      "|   Tokyo Police Club|Logged In|  Ashlynn|     F|            0|Williams| 166.1122| free|     Tallahassee, FL|   PUT|       NextSong|1537365219000|      217|Citizens Of Tomorrow|   200|1538353668000|\"Mozilla/5.0 (Mac...|    74|\n",
      "|             Orishas|Logged In|    Colin|     M|           58| Freeman|222.22322| paid|     Bakersfield, CA|   PUT|       NextSong|1538173362000|       29|           Represent|   200|1538353687000|Mozilla/5.0 (Wind...|    30|\n",
      "|             Ratatat|Logged In|    Micah|     M|           88|    Long|229.77261| free|Boston-Cambridge-...|   PUT|       NextSong|1538331630000|        8|              Swisha|   200|1538353744000|\"Mozilla/5.0 (Win...|     9|\n",
      "+--------------------+---------+---------+------+-------------+--------+---------+-----+--------------------+------+---------------+-------------+---------+--------------------+------+-------------+--------------------+------+\n",
      "only showing top 20 rows\n",
      "\n"
     ]
    }
   ],
   "source": [
    "user_log_valid.show()"
   ]
  },
  {
   "cell_type": "code",
   "execution_count": 15,
   "metadata": {},
   "outputs": [],
   "source": [
    "user_log_valid = user_log_valid.dropDuplicates().sort('userId')"
   ]
  },
  {
   "cell_type": "code",
   "execution_count": 16,
   "metadata": {},
   "outputs": [
    {
     "name": "stdout",
     "output_type": "stream",
     "text": [
      "+--------------------+\n",
      "|                page|\n",
      "+--------------------+\n",
      "|               About|\n",
      "|          Add Friend|\n",
      "|     Add to Playlist|\n",
      "|              Cancel|\n",
      "|Cancellation Conf...|\n",
      "|           Downgrade|\n",
      "|               Error|\n",
      "|                Help|\n",
      "|                Home|\n",
      "|              Logout|\n",
      "|            NextSong|\n",
      "|         Roll Advert|\n",
      "|       Save Settings|\n",
      "|            Settings|\n",
      "|    Submit Downgrade|\n",
      "|      Submit Upgrade|\n",
      "|         Thumbs Down|\n",
      "|           Thumbs Up|\n",
      "|             Upgrade|\n",
      "+--------------------+\n",
      "\n"
     ]
    }
   ],
   "source": [
    "spark.sql(\"SELECT DISTINCT page FROM user_log_valid_table ORDER BY page\").show()"
   ]
  },
  {
   "cell_type": "code",
   "execution_count": 17,
   "metadata": {},
   "outputs": [
    {
     "data": {
      "text/plain": [
       "DataFrame[page: string]"
      ]
     },
     "execution_count": 17,
     "metadata": {},
     "output_type": "execute_result"
    }
   ],
   "source": [
    "spark.sql(\"SELECT DISTINCT page FROM user_log_valid_table ORDER BY page\")\n"
   ]
  },
  {
   "cell_type": "code",
   "execution_count": 18,
   "metadata": {},
   "outputs": [
    {
     "data": {
      "text/html": [
       "<div>\n",
       "<style scoped>\n",
       "    .dataframe tbody tr th:only-of-type {\n",
       "        vertical-align: middle;\n",
       "    }\n",
       "\n",
       "    .dataframe tbody tr th {\n",
       "        vertical-align: top;\n",
       "    }\n",
       "\n",
       "    .dataframe thead th {\n",
       "        text-align: right;\n",
       "    }\n",
       "</style>\n",
       "<table border=\"1\" class=\"dataframe\">\n",
       "  <thead>\n",
       "    <tr style=\"text-align: right;\">\n",
       "      <th></th>\n",
       "      <th>artist</th>\n",
       "      <th>auth</th>\n",
       "      <th>firstName</th>\n",
       "      <th>gender</th>\n",
       "      <th>itemInSession</th>\n",
       "      <th>lastName</th>\n",
       "      <th>length</th>\n",
       "      <th>level</th>\n",
       "      <th>location</th>\n",
       "      <th>method</th>\n",
       "      <th>page</th>\n",
       "      <th>registration</th>\n",
       "      <th>sessionId</th>\n",
       "      <th>song</th>\n",
       "      <th>status</th>\n",
       "      <th>ts</th>\n",
       "      <th>userAgent</th>\n",
       "      <th>userId</th>\n",
       "    </tr>\n",
       "  </thead>\n",
       "  <tbody>\n",
       "    <tr>\n",
       "      <th>0</th>\n",
       "      <td>The Jacksons</td>\n",
       "      <td>Logged In</td>\n",
       "      <td>Brycen</td>\n",
       "      <td>M</td>\n",
       "      <td>187</td>\n",
       "      <td>Bradley</td>\n",
       "      <td>211.19955</td>\n",
       "      <td>paid</td>\n",
       "      <td>Laurel, MS</td>\n",
       "      <td>PUT</td>\n",
       "      <td>NextSong</td>\n",
       "      <td>1538159495000</td>\n",
       "      <td>595</td>\n",
       "      <td>Blame It On The Boogie</td>\n",
       "      <td>200</td>\n",
       "      <td>1539873446000</td>\n",
       "      <td>\"Mozilla/5.0 (Macintosh; Intel Mac OS X 10_9_4...</td>\n",
       "      <td>10</td>\n",
       "    </tr>\n",
       "    <tr>\n",
       "      <th>1</th>\n",
       "      <td>None</td>\n",
       "      <td>Logged In</td>\n",
       "      <td>Brycen</td>\n",
       "      <td>M</td>\n",
       "      <td>256</td>\n",
       "      <td>Bradley</td>\n",
       "      <td>NaN</td>\n",
       "      <td>paid</td>\n",
       "      <td>Laurel, MS</td>\n",
       "      <td>PUT</td>\n",
       "      <td>Thumbs Up</td>\n",
       "      <td>1538159495000</td>\n",
       "      <td>595</td>\n",
       "      <td>None</td>\n",
       "      <td>307</td>\n",
       "      <td>1539887833000</td>\n",
       "      <td>\"Mozilla/5.0 (Macintosh; Intel Mac OS X 10_9_4...</td>\n",
       "      <td>10</td>\n",
       "    </tr>\n",
       "    <tr>\n",
       "      <th>2</th>\n",
       "      <td>Eminem</td>\n",
       "      <td>Logged In</td>\n",
       "      <td>Brycen</td>\n",
       "      <td>M</td>\n",
       "      <td>283</td>\n",
       "      <td>Bradley</td>\n",
       "      <td>250.82730</td>\n",
       "      <td>paid</td>\n",
       "      <td>Laurel, MS</td>\n",
       "      <td>PUT</td>\n",
       "      <td>NextSong</td>\n",
       "      <td>1538159495000</td>\n",
       "      <td>595</td>\n",
       "      <td>Mockingbird</td>\n",
       "      <td>200</td>\n",
       "      <td>1539893026000</td>\n",
       "      <td>\"Mozilla/5.0 (Macintosh; Intel Mac OS X 10_9_4...</td>\n",
       "      <td>10</td>\n",
       "    </tr>\n",
       "    <tr>\n",
       "      <th>3</th>\n",
       "      <td>Darwin Deez</td>\n",
       "      <td>Logged In</td>\n",
       "      <td>Brycen</td>\n",
       "      <td>M</td>\n",
       "      <td>312</td>\n",
       "      <td>Bradley</td>\n",
       "      <td>114.78159</td>\n",
       "      <td>paid</td>\n",
       "      <td>Laurel, MS</td>\n",
       "      <td>PUT</td>\n",
       "      <td>NextSong</td>\n",
       "      <td>1538159495000</td>\n",
       "      <td>595</td>\n",
       "      <td>Lights On</td>\n",
       "      <td>200</td>\n",
       "      <td>1539898916000</td>\n",
       "      <td>\"Mozilla/5.0 (Macintosh; Intel Mac OS X 10_9_4...</td>\n",
       "      <td>10</td>\n",
       "    </tr>\n",
       "    <tr>\n",
       "      <th>4</th>\n",
       "      <td>Alliance Ethnik</td>\n",
       "      <td>Logged In</td>\n",
       "      <td>Brycen</td>\n",
       "      <td>M</td>\n",
       "      <td>319</td>\n",
       "      <td>Bradley</td>\n",
       "      <td>195.94404</td>\n",
       "      <td>paid</td>\n",
       "      <td>Laurel, MS</td>\n",
       "      <td>PUT</td>\n",
       "      <td>NextSong</td>\n",
       "      <td>1538159495000</td>\n",
       "      <td>595</td>\n",
       "      <td>SinceritÃÂ© Et Jalousie</td>\n",
       "      <td>200</td>\n",
       "      <td>1539901118000</td>\n",
       "      <td>\"Mozilla/5.0 (Macintosh; Intel Mac OS X 10_9_4...</td>\n",
       "      <td>10</td>\n",
       "    </tr>\n",
       "  </tbody>\n",
       "</table>\n",
       "</div>"
      ],
      "text/plain": [
       "            artist       auth firstName gender  itemInSession lastName  \\\n",
       "0     The Jacksons  Logged In    Brycen      M            187  Bradley   \n",
       "1             None  Logged In    Brycen      M            256  Bradley   \n",
       "2           Eminem  Logged In    Brycen      M            283  Bradley   \n",
       "3      Darwin Deez  Logged In    Brycen      M            312  Bradley   \n",
       "4  Alliance Ethnik  Logged In    Brycen      M            319  Bradley   \n",
       "\n",
       "      length level    location method       page   registration  sessionId  \\\n",
       "0  211.19955  paid  Laurel, MS    PUT   NextSong  1538159495000        595   \n",
       "1        NaN  paid  Laurel, MS    PUT  Thumbs Up  1538159495000        595   \n",
       "2  250.82730  paid  Laurel, MS    PUT   NextSong  1538159495000        595   \n",
       "3  114.78159  paid  Laurel, MS    PUT   NextSong  1538159495000        595   \n",
       "4  195.94404  paid  Laurel, MS    PUT   NextSong  1538159495000        595   \n",
       "\n",
       "                       song  status             ts  \\\n",
       "0    Blame It On The Boogie     200  1539873446000   \n",
       "1                      None     307  1539887833000   \n",
       "2               Mockingbird     200  1539893026000   \n",
       "3                 Lights On     200  1539898916000   \n",
       "4  SinceritÃÂ© Et Jalousie     200  1539901118000   \n",
       "\n",
       "                                           userAgent userId  \n",
       "0  \"Mozilla/5.0 (Macintosh; Intel Mac OS X 10_9_4...     10  \n",
       "1  \"Mozilla/5.0 (Macintosh; Intel Mac OS X 10_9_4...     10  \n",
       "2  \"Mozilla/5.0 (Macintosh; Intel Mac OS X 10_9_4...     10  \n",
       "3  \"Mozilla/5.0 (Macintosh; Intel Mac OS X 10_9_4...     10  \n",
       "4  \"Mozilla/5.0 (Macintosh; Intel Mac OS X 10_9_4...     10  "
      ]
     },
     "execution_count": 18,
     "metadata": {},
     "output_type": "execute_result"
    }
   ],
   "source": [
    "user_log_valid = user_log_valid.toPandas()\n",
    "user_log_valid.head()"
   ]
  },
  {
   "cell_type": "markdown",
   "metadata": {},
   "source": [
    "# Exploratory Data Analysis\n",
    "When you're working with the full dataset, perform EDA by loading a small subset of the data and doing basic manipulations within Spark. In this workspace, you are already provided a small subset of data you can explore.\n",
    "\n",
    "### Define Churn\n",
    "\n",
    "Once you've done some preliminary analysis, create a column `Churn` to use as the label for your model. I suggest using the `Cancellation Confirmation` events to define your churn, which happen for both paid and free users. As a bonus task, you can also look into the `Downgrade` events.\n",
    "\n",
    "### Explore Data\n",
    "Once you've defined churn, perform some exploratory data analysis to observe the behavior for users who stayed vs users who churned. You can start by exploring aggregates on these two groups of users, observing how much of a specific action they experienced per a certain time unit or number of songs played."
   ]
  },
  {
   "cell_type": "code",
   "execution_count": 19,
   "metadata": {},
   "outputs": [
    {
     "data": {
      "text/html": [
       "<div>\n",
       "<style scoped>\n",
       "    .dataframe tbody tr th:only-of-type {\n",
       "        vertical-align: middle;\n",
       "    }\n",
       "\n",
       "    .dataframe tbody tr th {\n",
       "        vertical-align: top;\n",
       "    }\n",
       "\n",
       "    .dataframe thead th {\n",
       "        text-align: right;\n",
       "    }\n",
       "</style>\n",
       "<table border=\"1\" class=\"dataframe\">\n",
       "  <thead>\n",
       "    <tr style=\"text-align: right;\">\n",
       "      <th></th>\n",
       "      <th>artist</th>\n",
       "      <th>auth</th>\n",
       "      <th>firstName</th>\n",
       "      <th>gender</th>\n",
       "      <th>itemInSession</th>\n",
       "      <th>lastName</th>\n",
       "      <th>length</th>\n",
       "      <th>level</th>\n",
       "      <th>location</th>\n",
       "      <th>method</th>\n",
       "      <th>page</th>\n",
       "      <th>registration</th>\n",
       "      <th>sessionId</th>\n",
       "      <th>song</th>\n",
       "      <th>status</th>\n",
       "      <th>ts</th>\n",
       "      <th>userAgent</th>\n",
       "      <th>userId</th>\n",
       "    </tr>\n",
       "  </thead>\n",
       "  <tbody>\n",
       "    <tr>\n",
       "      <th>0</th>\n",
       "      <td>The Jacksons</td>\n",
       "      <td>Logged In</td>\n",
       "      <td>Brycen</td>\n",
       "      <td>M</td>\n",
       "      <td>187</td>\n",
       "      <td>Bradley</td>\n",
       "      <td>211.19955</td>\n",
       "      <td>paid</td>\n",
       "      <td>Laurel, MS</td>\n",
       "      <td>PUT</td>\n",
       "      <td>NextSong</td>\n",
       "      <td>1538159495000</td>\n",
       "      <td>595</td>\n",
       "      <td>Blame It On The Boogie</td>\n",
       "      <td>200</td>\n",
       "      <td>1539873446000</td>\n",
       "      <td>\"Mozilla/5.0 (Macintosh; Intel Mac OS X 10_9_4...</td>\n",
       "      <td>10</td>\n",
       "    </tr>\n",
       "    <tr>\n",
       "      <th>1</th>\n",
       "      <td>None</td>\n",
       "      <td>Logged In</td>\n",
       "      <td>Brycen</td>\n",
       "      <td>M</td>\n",
       "      <td>256</td>\n",
       "      <td>Bradley</td>\n",
       "      <td>NaN</td>\n",
       "      <td>paid</td>\n",
       "      <td>Laurel, MS</td>\n",
       "      <td>PUT</td>\n",
       "      <td>Thumbs Up</td>\n",
       "      <td>1538159495000</td>\n",
       "      <td>595</td>\n",
       "      <td>None</td>\n",
       "      <td>307</td>\n",
       "      <td>1539887833000</td>\n",
       "      <td>\"Mozilla/5.0 (Macintosh; Intel Mac OS X 10_9_4...</td>\n",
       "      <td>10</td>\n",
       "    </tr>\n",
       "    <tr>\n",
       "      <th>2</th>\n",
       "      <td>Eminem</td>\n",
       "      <td>Logged In</td>\n",
       "      <td>Brycen</td>\n",
       "      <td>M</td>\n",
       "      <td>283</td>\n",
       "      <td>Bradley</td>\n",
       "      <td>250.82730</td>\n",
       "      <td>paid</td>\n",
       "      <td>Laurel, MS</td>\n",
       "      <td>PUT</td>\n",
       "      <td>NextSong</td>\n",
       "      <td>1538159495000</td>\n",
       "      <td>595</td>\n",
       "      <td>Mockingbird</td>\n",
       "      <td>200</td>\n",
       "      <td>1539893026000</td>\n",
       "      <td>\"Mozilla/5.0 (Macintosh; Intel Mac OS X 10_9_4...</td>\n",
       "      <td>10</td>\n",
       "    </tr>\n",
       "    <tr>\n",
       "      <th>3</th>\n",
       "      <td>Darwin Deez</td>\n",
       "      <td>Logged In</td>\n",
       "      <td>Brycen</td>\n",
       "      <td>M</td>\n",
       "      <td>312</td>\n",
       "      <td>Bradley</td>\n",
       "      <td>114.78159</td>\n",
       "      <td>paid</td>\n",
       "      <td>Laurel, MS</td>\n",
       "      <td>PUT</td>\n",
       "      <td>NextSong</td>\n",
       "      <td>1538159495000</td>\n",
       "      <td>595</td>\n",
       "      <td>Lights On</td>\n",
       "      <td>200</td>\n",
       "      <td>1539898916000</td>\n",
       "      <td>\"Mozilla/5.0 (Macintosh; Intel Mac OS X 10_9_4...</td>\n",
       "      <td>10</td>\n",
       "    </tr>\n",
       "    <tr>\n",
       "      <th>4</th>\n",
       "      <td>Alliance Ethnik</td>\n",
       "      <td>Logged In</td>\n",
       "      <td>Brycen</td>\n",
       "      <td>M</td>\n",
       "      <td>319</td>\n",
       "      <td>Bradley</td>\n",
       "      <td>195.94404</td>\n",
       "      <td>paid</td>\n",
       "      <td>Laurel, MS</td>\n",
       "      <td>PUT</td>\n",
       "      <td>NextSong</td>\n",
       "      <td>1538159495000</td>\n",
       "      <td>595</td>\n",
       "      <td>SinceritÃÂ© Et Jalousie</td>\n",
       "      <td>200</td>\n",
       "      <td>1539901118000</td>\n",
       "      <td>\"Mozilla/5.0 (Macintosh; Intel Mac OS X 10_9_4...</td>\n",
       "      <td>10</td>\n",
       "    </tr>\n",
       "  </tbody>\n",
       "</table>\n",
       "</div>"
      ],
      "text/plain": [
       "            artist       auth firstName gender  itemInSession lastName  \\\n",
       "0     The Jacksons  Logged In    Brycen      M            187  Bradley   \n",
       "1             None  Logged In    Brycen      M            256  Bradley   \n",
       "2           Eminem  Logged In    Brycen      M            283  Bradley   \n",
       "3      Darwin Deez  Logged In    Brycen      M            312  Bradley   \n",
       "4  Alliance Ethnik  Logged In    Brycen      M            319  Bradley   \n",
       "\n",
       "      length level    location method       page   registration  sessionId  \\\n",
       "0  211.19955  paid  Laurel, MS    PUT   NextSong  1538159495000        595   \n",
       "1        NaN  paid  Laurel, MS    PUT  Thumbs Up  1538159495000        595   \n",
       "2  250.82730  paid  Laurel, MS    PUT   NextSong  1538159495000        595   \n",
       "3  114.78159  paid  Laurel, MS    PUT   NextSong  1538159495000        595   \n",
       "4  195.94404  paid  Laurel, MS    PUT   NextSong  1538159495000        595   \n",
       "\n",
       "                       song  status             ts  \\\n",
       "0    Blame It On The Boogie     200  1539873446000   \n",
       "1                      None     307  1539887833000   \n",
       "2               Mockingbird     200  1539893026000   \n",
       "3                 Lights On     200  1539898916000   \n",
       "4  SinceritÃÂ© Et Jalousie     200  1539901118000   \n",
       "\n",
       "                                           userAgent userId  \n",
       "0  \"Mozilla/5.0 (Macintosh; Intel Mac OS X 10_9_4...     10  \n",
       "1  \"Mozilla/5.0 (Macintosh; Intel Mac OS X 10_9_4...     10  \n",
       "2  \"Mozilla/5.0 (Macintosh; Intel Mac OS X 10_9_4...     10  \n",
       "3  \"Mozilla/5.0 (Macintosh; Intel Mac OS X 10_9_4...     10  \n",
       "4  \"Mozilla/5.0 (Macintosh; Intel Mac OS X 10_9_4...     10  "
      ]
     },
     "execution_count": 19,
     "metadata": {},
     "output_type": "execute_result"
    }
   ],
   "source": [
    "df= user_log_valid\n",
    "type(df)\n",
    "df.head()"
   ]
  },
  {
   "cell_type": "code",
   "execution_count": 20,
   "metadata": {},
   "outputs": [
    {
     "name": "stdout",
     "output_type": "stream",
     "text": [
      "+--------------------+---------+---------+------+-------------+--------+---------+-----+----------+------+---------+-------------+---------+--------------------+------+-------------+--------------------+------+\n",
      "|              artist|     auth|firstName|gender|itemInSession|lastName|   length|level|  location|method|     page| registration|sessionId|                song|status|           ts|           userAgent|userId|\n",
      "+--------------------+---------+---------+------+-------------+--------+---------+-----+----------+------+---------+-------------+---------+--------------------+------+-------------+--------------------+------+\n",
      "|        The Jacksons|Logged In|   Brycen|     M|          187| Bradley|211.19955| paid|Laurel, MS|   PUT| NextSong|1538159495000|      595|Blame It On The B...|   200|1539873446000|\"Mozilla/5.0 (Mac...|    10|\n",
      "|                null|Logged In|   Brycen|     M|          256| Bradley|      0.0| paid|Laurel, MS|   PUT|Thumbs Up|1538159495000|      595|                null|   307|1539887833000|\"Mozilla/5.0 (Mac...|    10|\n",
      "|              Eminem|Logged In|   Brycen|     M|          283| Bradley| 250.8273| paid|Laurel, MS|   PUT| NextSong|1538159495000|      595|         Mockingbird|   200|1539893026000|\"Mozilla/5.0 (Mac...|    10|\n",
      "|         Darwin Deez|Logged In|   Brycen|     M|          312| Bradley|114.78159| paid|Laurel, MS|   PUT| NextSong|1538159495000|      595|           Lights On|   200|1539898916000|\"Mozilla/5.0 (Mac...|    10|\n",
      "|     Alliance Ethnik|Logged In|   Brycen|     M|          319| Bradley|195.94404| paid|Laurel, MS|   PUT| NextSong|1538159495000|      595|SinceritÃÂ© Et J...|   200|1539901118000|\"Mozilla/5.0 (Mac...|    10|\n",
      "|                Sade|Logged In|   Brycen|     M|           53| Bradley|275.30404| paid|Laurel, MS|   PUT| NextSong|1538159495000|     1592|              Pearls|   200|1542319561000|\"Mozilla/5.0 (Mac...|    10|\n",
      "|          Tim Hughes|Logged In|   Brycen|     M|           70| Bradley|203.02322| paid|Laurel, MS|   PUT| NextSong|1538159495000|     1981|           Happy Day|   200|1542626969000|\"Mozilla/5.0 (Mac...|    10|\n",
      "|        Apocalyptica|Logged In|   Brycen|     M|          257| Bradley|351.97342| paid|Laurel, MS|   PUT| NextSong|1538159495000|      595|Welcome Home (San...|   200|1539888062000|\"Mozilla/5.0 (Mac...|    10|\n",
      "|Johnny Depp_ Jami...|Logged In|   Brycen|     M|          143| Bradley|331.96363| paid|Laurel, MS|   PUT| NextSong|1538159495000|      595|No Place Like London|   200|1539863826000|\"Mozilla/5.0 (Mac...|    10|\n",
      "|      Marilyn Manson|Logged In|   Brycen|     M|          343| Bradley|247.01342| paid|Laurel, MS|   PUT| NextSong|1538159495000|      595|      Personal Jesus|   200|1539905745000|\"Mozilla/5.0 (Mac...|    10|\n",
      "|       Guns N' Roses|Logged In|   Brycen|     M|          302| Bradley| 184.0322| paid|Laurel, MS|   PUT| NextSong|1538159495000|      595|    Live And Let Die|   200|1539897058000|\"Mozilla/5.0 (Mac...|    10|\n",
      "|        Straightaway|Logged In|   Brycen|     M|          369| Bradley|190.22322| paid|Laurel, MS|   PUT| NextSong|1538159495000|      595|    Unchanging Story|   200|1539910743000|\"Mozilla/5.0 (Mac...|    10|\n",
      "|                null|Logged In|   Brycen|     M|           17| Bradley|      0.0| paid|Laurel, MS|   GET|Downgrade|1538159495000|      595|                null|   200|1539837753000|\"Mozilla/5.0 (Mac...|    10|\n",
      "|        Worlds Apart|Logged In|   Brycen|     M|          274| Bradley|241.94567| paid|Laurel, MS|   PUT| NextSong|1538159495000|      595|    Someone Like You|   200|1539891188000|\"Mozilla/5.0 (Mac...|    10|\n",
      "|                null|Logged In|   Brycen|     M|          276| Bradley|      0.0| paid|Laurel, MS|   PUT|Thumbs Up|1538159495000|      595|                null|   307|1539891430000|\"Mozilla/5.0 (Mac...|    10|\n",
      "|                D-12|Logged In|   Brycen|     M|            3| Bradley|322.42893| paid|Laurel, MS|   PUT| NextSong|1538159495000|     1047|       Pistol Pistol|   200|1540850815000|\"Mozilla/5.0 (Mac...|    10|\n",
      "|           Aerosmith|Logged In|   Brycen|     M|           30| Bradley|319.73832| paid|Laurel, MS|   PUT| NextSong|1538159495000|     1592|               Crazy|   200|1542315831000|\"Mozilla/5.0 (Mac...|    10|\n",
      "|    A Perfect Circle|Logged In|   Brycen|     M|           34| Bradley|144.74404| paid|Laurel, MS|   PUT| NextSong|1538159495000|     1592|        RenholdÃÂ«r|   200|1542316800000|\"Mozilla/5.0 (Mac...|    10|\n",
      "|       Peter Sellers|Logged In|   Brycen|     M|          285| Bradley|142.39302| paid|Laurel, MS|   PUT| NextSong|1538159495000|      595|       She Loves You|   200|1539893521000|\"Mozilla/5.0 (Mac...|    10|\n",
      "|                null|Logged In|   Brycen|     M|           70| Bradley|      0.0| paid|Laurel, MS|   PUT|Thumbs Up|1538159495000|     1592|                null|   307|1542324652000|\"Mozilla/5.0 (Mac...|    10|\n",
      "+--------------------+---------+---------+------+-------------+--------+---------+-----+----------+------+---------+-------------+---------+--------------------+------+-------------+--------------------+------+\n",
      "only showing top 20 rows\n",
      "\n"
     ]
    }
   ],
   "source": [
    "df_spark=spark.createDataFrame(df)\n",
    "df_spark = df_spark.replace(float('nan'), 0)\n",
    "df_spark.show()"
   ]
  },
  {
   "cell_type": "code",
   "execution_count": 21,
   "metadata": {},
   "outputs": [],
   "source": [
    "#df_spark.select([count(when(isnull(c), c)).alias(c) for c in df_spark.columns]).show()"
   ]
  },
  {
   "cell_type": "code",
   "execution_count": 22,
   "metadata": {},
   "outputs": [
    {
     "name": "stdout",
     "output_type": "stream",
     "text": [
      "+--------------------+---------+---------+------+-------------+--------+---------+-----+----------+------+---------+-------------+---------+--------------------+------+-------------+--------------------+------+--------------------+-------------------+\n",
      "|              artist|     auth|firstName|gender|itemInSession|lastName|   length|level|  location|method|     page| registration|sessionId|                song|status|           ts|           userAgent|userId|updated_registration|         updated_ts|\n",
      "+--------------------+---------+---------+------+-------------+--------+---------+-----+----------+------+---------+-------------+---------+--------------------+------+-------------+--------------------+------+--------------------+-------------------+\n",
      "|        The Jacksons|Logged In|   Brycen|     M|          187| Bradley|211.19955| paid|Laurel, MS|   PUT| NextSong|1538159495000|      595|Blame It On The B...|   200|1539873446000|\"Mozilla/5.0 (Mac...|    10| 09-29-2018 00:01:35|10-18-2018 20:07:26|\n",
      "|                null|Logged In|   Brycen|     M|          256| Bradley|      0.0| paid|Laurel, MS|   PUT|Thumbs Up|1538159495000|      595|                null|   307|1539887833000|\"Mozilla/5.0 (Mac...|    10| 09-29-2018 00:01:35|10-19-2018 00:07:13|\n",
      "|              Eminem|Logged In|   Brycen|     M|          283| Bradley| 250.8273| paid|Laurel, MS|   PUT| NextSong|1538159495000|      595|         Mockingbird|   200|1539893026000|\"Mozilla/5.0 (Mac...|    10| 09-29-2018 00:01:35|10-19-2018 01:33:46|\n",
      "|         Darwin Deez|Logged In|   Brycen|     M|          312| Bradley|114.78159| paid|Laurel, MS|   PUT| NextSong|1538159495000|      595|           Lights On|   200|1539898916000|\"Mozilla/5.0 (Mac...|    10| 09-29-2018 00:01:35|10-19-2018 03:11:56|\n",
      "|     Alliance Ethnik|Logged In|   Brycen|     M|          319| Bradley|195.94404| paid|Laurel, MS|   PUT| NextSong|1538159495000|      595|SinceritÃÂ© Et J...|   200|1539901118000|\"Mozilla/5.0 (Mac...|    10| 09-29-2018 00:01:35|10-19-2018 03:48:38|\n",
      "|                Sade|Logged In|   Brycen|     M|           53| Bradley|275.30404| paid|Laurel, MS|   PUT| NextSong|1538159495000|     1592|              Pearls|   200|1542319561000|\"Mozilla/5.0 (Mac...|    10| 09-29-2018 00:01:35|11-16-2018 03:36:01|\n",
      "|          Tim Hughes|Logged In|   Brycen|     M|           70| Bradley|203.02322| paid|Laurel, MS|   PUT| NextSong|1538159495000|     1981|           Happy Day|   200|1542626969000|\"Mozilla/5.0 (Mac...|    10| 09-29-2018 00:01:35|11-19-2018 16:59:29|\n",
      "|        Apocalyptica|Logged In|   Brycen|     M|          257| Bradley|351.97342| paid|Laurel, MS|   PUT| NextSong|1538159495000|      595|Welcome Home (San...|   200|1539888062000|\"Mozilla/5.0 (Mac...|    10| 09-29-2018 00:01:35|10-19-2018 00:11:02|\n",
      "|Johnny Depp_ Jami...|Logged In|   Brycen|     M|          143| Bradley|331.96363| paid|Laurel, MS|   PUT| NextSong|1538159495000|      595|No Place Like London|   200|1539863826000|\"Mozilla/5.0 (Mac...|    10| 09-29-2018 00:01:35|10-18-2018 17:27:06|\n",
      "|      Marilyn Manson|Logged In|   Brycen|     M|          343| Bradley|247.01342| paid|Laurel, MS|   PUT| NextSong|1538159495000|      595|      Personal Jesus|   200|1539905745000|\"Mozilla/5.0 (Mac...|    10| 09-29-2018 00:01:35|10-19-2018 05:05:45|\n",
      "|       Guns N' Roses|Logged In|   Brycen|     M|          302| Bradley| 184.0322| paid|Laurel, MS|   PUT| NextSong|1538159495000|      595|    Live And Let Die|   200|1539897058000|\"Mozilla/5.0 (Mac...|    10| 09-29-2018 00:01:35|10-19-2018 02:40:58|\n",
      "|        Straightaway|Logged In|   Brycen|     M|          369| Bradley|190.22322| paid|Laurel, MS|   PUT| NextSong|1538159495000|      595|    Unchanging Story|   200|1539910743000|\"Mozilla/5.0 (Mac...|    10| 09-29-2018 00:01:35|10-19-2018 06:29:03|\n",
      "|                null|Logged In|   Brycen|     M|           17| Bradley|      0.0| paid|Laurel, MS|   GET|Downgrade|1538159495000|      595|                null|   200|1539837753000|\"Mozilla/5.0 (Mac...|    10| 09-29-2018 00:01:35|10-18-2018 10:12:33|\n",
      "|        Worlds Apart|Logged In|   Brycen|     M|          274| Bradley|241.94567| paid|Laurel, MS|   PUT| NextSong|1538159495000|      595|    Someone Like You|   200|1539891188000|\"Mozilla/5.0 (Mac...|    10| 09-29-2018 00:01:35|10-19-2018 01:03:08|\n",
      "|                null|Logged In|   Brycen|     M|          276| Bradley|      0.0| paid|Laurel, MS|   PUT|Thumbs Up|1538159495000|      595|                null|   307|1539891430000|\"Mozilla/5.0 (Mac...|    10| 09-29-2018 00:01:35|10-19-2018 01:07:10|\n",
      "|                D-12|Logged In|   Brycen|     M|            3| Bradley|322.42893| paid|Laurel, MS|   PUT| NextSong|1538159495000|     1047|       Pistol Pistol|   200|1540850815000|\"Mozilla/5.0 (Mac...|    10| 09-29-2018 00:01:35|10-30-2018 03:36:55|\n",
      "|           Aerosmith|Logged In|   Brycen|     M|           30| Bradley|319.73832| paid|Laurel, MS|   PUT| NextSong|1538159495000|     1592|               Crazy|   200|1542315831000|\"Mozilla/5.0 (Mac...|    10| 09-29-2018 00:01:35|11-16-2018 02:33:51|\n",
      "|    A Perfect Circle|Logged In|   Brycen|     M|           34| Bradley|144.74404| paid|Laurel, MS|   PUT| NextSong|1538159495000|     1592|        RenholdÃÂ«r|   200|1542316800000|\"Mozilla/5.0 (Mac...|    10| 09-29-2018 00:01:35|11-16-2018 02:50:00|\n",
      "|       Peter Sellers|Logged In|   Brycen|     M|          285| Bradley|142.39302| paid|Laurel, MS|   PUT| NextSong|1538159495000|      595|       She Loves You|   200|1539893521000|\"Mozilla/5.0 (Mac...|    10| 09-29-2018 00:01:35|10-19-2018 01:42:01|\n",
      "|                null|Logged In|   Brycen|     M|           70| Bradley|      0.0| paid|Laurel, MS|   PUT|Thumbs Up|1538159495000|     1592|                null|   307|1542324652000|\"Mozilla/5.0 (Mac...|    10| 09-29-2018 00:01:35|11-16-2018 05:00:52|\n",
      "+--------------------+---------+---------+------+-------------+--------+---------+-----+----------+------+---------+-------------+---------+--------------------+------+-------------+--------------------+------+--------------------+-------------------+\n",
      "only showing top 20 rows\n",
      "\n"
     ]
    }
   ],
   "source": [
    "# clearly represent registration and timestamp by creating new columns\n",
    "new_ts = udf(lambda x: datetime.datetime.fromtimestamp(x / 1000.0).strftime(\"%m-%d-%Y %H:%M:%S\"))\n",
    "df_spark = df_spark.withColumn('updated_registration', new_ts('registration'))\n",
    "df_spark = df_spark.withColumn('updated_ts', new_ts('ts'))\n",
    "df_spark.show()\n"
   ]
  },
  {
   "cell_type": "code",
   "execution_count": 23,
   "metadata": {},
   "outputs": [],
   "source": [
    "# define a downgrade label\n",
    "downgrade_value  = udf(lambda x: 1 if x == \"Submit Downgrade\" else 0, IntegerType())\n",
    "df_spark = df_spark.withColumn(\"downgrade_value\", downgrade_value(\"page\"))\n",
    "\n"
   ]
  },
  {
   "cell_type": "code",
   "execution_count": 24,
   "metadata": {},
   "outputs": [
    {
     "name": "stdout",
     "output_type": "stream",
     "text": [
      "+--------------------+---------+---------+------+-------------+---------+---------+-----+--------------------+------+-----------+-------------+---------+--------------------+------+-------------+--------------------+------+--------------------+-------------------+---------------+--------------+\n",
      "|              artist|     auth|firstName|gender|itemInSession| lastName|   length|level|            location|method|       page| registration|sessionId|                song|status|           ts|           userAgent|userId|updated_registration|         updated_ts|downgrade_value|user_downgrade|\n",
      "+--------------------+---------+---------+------+-------------+---------+---------+-----+--------------------+------+-----------+-------------+---------+--------------------+------+-------------+--------------------+------+--------------------+-------------------+---------------+--------------+\n",
      "|                Bebe|Logged In| Darianna|     F|            1|Carpenter|225.77587| free|Bridgeport-Stamfo...|   PUT|   NextSong|1538016340000|      174|    Men SeÃÂ±arÃÂ¡|   200|1541731859000|\"Mozilla/5.0 (iPh...|100010| 09-27-2018 08:15:40|11-09-2018 08:20:59|              0|             0|\n",
      "|            The Ruts|Logged In| Darianna|     F|           44|Carpenter|338.96444| free|Bridgeport-Stamfo...|   PUT|   NextSong|1538016340000|      118|West One (Shine O...|   200|1540052737000|\"Mozilla/5.0 (iPh...|100010| 09-27-2018 08:15:40|10-20-2018 21:55:37|              0|             0|\n",
      "|                null|Logged In| Darianna|     F|           21|Carpenter|      0.0| free|Bridgeport-Stamfo...|   PUT|     Logout|1538016340000|      133|                null|   307|1541415422000|\"Mozilla/5.0 (iPh...|100010| 09-27-2018 08:15:40|11-05-2018 16:27:02|              0|             0|\n",
      "|             Shakira|Logged In| Darianna|     F|           51|Carpenter|363.38893| free|Bridgeport-Stamfo...|   PUT|   NextSong|1538016340000|      133|       Octavo DÃÂ­a|   200|1541419901000|\"Mozilla/5.0 (iPh...|100010| 09-27-2018 08:15:40|11-05-2018 17:41:41|              0|             0|\n",
      "|                null|Logged In| Darianna|     F|          100|Carpenter|      0.0| free|Bridgeport-Stamfo...|   GET|Roll Advert|1538016340000|      174|                null|   200|1541749370000|\"Mozilla/5.0 (iPh...|100010| 09-27-2018 08:15:40|11-09-2018 13:12:50|              0|             0|\n",
      "|            Daughtry|Logged In| Darianna|     F|           28|Carpenter|249.91302| free|Bridgeport-Stamfo...|   PUT|   NextSong|1538016340000|      133|         No Surprise|   200|1541415980000|\"Mozilla/5.0 (iPh...|100010| 09-27-2018 08:15:40|11-05-2018 16:36:20|              0|             0|\n",
      "|           Erin Bode|Logged In| Darianna|     F|           32|Carpenter|252.05506| free|Bridgeport-Stamfo...|   PUT|   NextSong|1538016340000|      133|Here_ There And E...|   200|1541416996000|\"Mozilla/5.0 (iPh...|100010| 09-27-2018 08:15:40|11-05-2018 16:53:16|              0|             0|\n",
      "|             Daddy X|Logged In| Darianna|     F|           15|Carpenter|220.29016| free|Bridgeport-Stamfo...|   PUT|   NextSong|1538016340000|      133|               Money|   200|1541414652000|\"Mozilla/5.0 (iPh...|100010| 09-27-2018 08:15:40|11-05-2018 16:14:12|              0|             0|\n",
      "|      The Cat Empire|Logged In| Darianna|     F|           67|Carpenter|441.86077| free|Bridgeport-Stamfo...|   PUT|   NextSong|1538016340000|      133|       The Wine Song|   200|1541423275000|\"Mozilla/5.0 (iPh...|100010| 09-27-2018 08:15:40|11-05-2018 18:37:55|              0|             0|\n",
      "|            Bon Jovi|Logged In| Darianna|     F|          102|Carpenter|  224.522| free|Bridgeport-Stamfo...|   PUT|   NextSong|1538016340000|      174|        It's My Life|   200|1541749667000|\"Mozilla/5.0 (iPh...|100010| 09-27-2018 08:15:40|11-09-2018 13:17:47|              0|             0|\n",
      "|            BjÃÂ¶rk|Logged In| Darianna|     F|           24|Carpenter|348.57751| free|Bridgeport-Stamfo...|   PUT|   NextSong|1538016340000|      118|                Undo|   200|1540049200000|\"Mozilla/5.0 (iPh...|100010| 09-27-2018 08:15:40|10-20-2018 20:56:40|              0|             0|\n",
      "|             Shakira|Logged In| Darianna|     F|           52|Carpenter|227.34322| free|Bridgeport-Stamfo...|   PUT|   NextSong|1538016340000|      133|Did It Again (fea...|   200|1541420264000|\"Mozilla/5.0 (iPh...|100010| 09-27-2018 08:15:40|11-05-2018 17:47:44|              0|             0|\n",
      "|                null|Logged In| Darianna|     F|            3|Carpenter|      0.0| free|Bridgeport-Stamfo...|   GET|Roll Advert|1538016340000|      118|                null|   200|1540045400000|\"Mozilla/5.0 (iPh...|100010| 09-27-2018 08:15:40|10-20-2018 19:53:20|              0|             0|\n",
      "|                null|Logged In| Darianna|     F|           13|Carpenter|      0.0| free|Bridgeport-Stamfo...|   GET|       Home|1538016340000|      118|                null|   200|1540047107000|\"Mozilla/5.0 (iPh...|100010| 09-27-2018 08:15:40|10-20-2018 20:21:47|              0|             0|\n",
      "|       Lonnie Gordon|Logged In| Darianna|     F|            7|Carpenter|181.21098| free|Bridgeport-Stamfo...|   PUT|   NextSong|1538016340000|      187|Catch You Baby (S...|   200|1542818892000|\"Mozilla/5.0 (iPh...|100010| 09-27-2018 08:15:40|11-21-2018 22:18:12|              0|             0|\n",
      "|            Savatage|Logged In| Darianna|     F|            2|Carpenter|197.45914| free|Bridgeport-Stamfo...|   PUT|   NextSong|1538016340000|      118|               Drive|   200|1540045376000|\"Mozilla/5.0 (iPh...|100010| 09-27-2018 08:15:40|10-20-2018 19:52:56|              0|             0|\n",
      "|Audio Bullys Feat...|Logged In| Darianna|     F|          105|Carpenter|177.34485| free|Bridgeport-Stamfo...|   PUT|   NextSong|1538016340000|      174|Shot You Down (Ra...|   200|1541750488000|\"Mozilla/5.0 (iPh...|100010| 09-27-2018 08:15:40|11-09-2018 13:31:28|              0|             0|\n",
      "|California Swag D...|Logged In| Darianna|     F|            2|Carpenter|239.17669| free|Bridgeport-Stamfo...|   PUT|   NextSong|1538016340000|       78|Teach Me How To D...|   200|1539603825000|\"Mozilla/5.0 (iPh...|100010| 09-27-2018 08:15:40|10-15-2018 17:13:45|              0|             0|\n",
      "|      CÃÂ©line Dion|Logged In| Darianna|     F|            4|Carpenter|280.78975| free|Bridgeport-Stamfo...|   PUT|   NextSong|1538016340000|      118| My Heart Will Go On|   200|1540045573000|\"Mozilla/5.0 (iPh...|100010| 09-27-2018 08:15:40|10-20-2018 19:56:13|              0|             0|\n",
      "|          Ron Carter|Logged In| Darianna|     F|            0|Carpenter|497.13587| free|Bridgeport-Stamfo...|   PUT|   NextSong|1538016340000|      133| I CAN'T GET STARTED|   200|1541411290000|\"Mozilla/5.0 (iPh...|100010| 09-27-2018 08:15:40|11-05-2018 15:18:10|              0|             0|\n",
      "+--------------------+---------+---------+------+-------------+---------+---------+-----+--------------------+------+-----------+-------------+---------+--------------------+------+-------------+--------------------+------+--------------------+-------------------+---------------+--------------+\n",
      "only showing top 20 rows\n",
      "\n"
     ]
    }
   ],
   "source": [
    "# define a downgrade label\n",
    "dg_window = Window.partitionBy('UserId')\n",
    "df_spark = df_spark.withColumn(\"user_downgrade\", max('downgrade_value').over(dg_window))\n",
    "df_spark.show()"
   ]
  },
  {
   "cell_type": "code",
   "execution_count": 25,
   "metadata": {},
   "outputs": [
    {
     "name": "stdout",
     "output_type": "stream",
     "text": [
      "+--------------------+---------+---------+------+-------------+---------+---------+-----+--------------------+------+-----------+-------------+---------+--------------------+------+-------------+--------------------+------+--------------------+-------------------+---------------+--------------+-----------+\n",
      "|              artist|     auth|firstName|gender|itemInSession| lastName|   length|level|            location|method|       page| registration|sessionId|                song|status|           ts|           userAgent|userId|updated_registration|         updated_ts|downgrade_value|user_downgrade|churn_value|\n",
      "+--------------------+---------+---------+------+-------------+---------+---------+-----+--------------------+------+-----------+-------------+---------+--------------------+------+-------------+--------------------+------+--------------------+-------------------+---------------+--------------+-----------+\n",
      "|                Bebe|Logged In| Darianna|     F|            1|Carpenter|225.77587| free|Bridgeport-Stamfo...|   PUT|   NextSong|1538016340000|      174|    Men SeÃÂ±arÃÂ¡|   200|1541731859000|\"Mozilla/5.0 (iPh...|100010| 09-27-2018 08:15:40|11-09-2018 08:20:59|              0|             0|          0|\n",
      "|            The Ruts|Logged In| Darianna|     F|           44|Carpenter|338.96444| free|Bridgeport-Stamfo...|   PUT|   NextSong|1538016340000|      118|West One (Shine O...|   200|1540052737000|\"Mozilla/5.0 (iPh...|100010| 09-27-2018 08:15:40|10-20-2018 21:55:37|              0|             0|          0|\n",
      "|                null|Logged In| Darianna|     F|           21|Carpenter|      0.0| free|Bridgeport-Stamfo...|   PUT|     Logout|1538016340000|      133|                null|   307|1541415422000|\"Mozilla/5.0 (iPh...|100010| 09-27-2018 08:15:40|11-05-2018 16:27:02|              0|             0|          0|\n",
      "|             Shakira|Logged In| Darianna|     F|           51|Carpenter|363.38893| free|Bridgeport-Stamfo...|   PUT|   NextSong|1538016340000|      133|       Octavo DÃÂ­a|   200|1541419901000|\"Mozilla/5.0 (iPh...|100010| 09-27-2018 08:15:40|11-05-2018 17:41:41|              0|             0|          0|\n",
      "|                null|Logged In| Darianna|     F|          100|Carpenter|      0.0| free|Bridgeport-Stamfo...|   GET|Roll Advert|1538016340000|      174|                null|   200|1541749370000|\"Mozilla/5.0 (iPh...|100010| 09-27-2018 08:15:40|11-09-2018 13:12:50|              0|             0|          0|\n",
      "|            Daughtry|Logged In| Darianna|     F|           28|Carpenter|249.91302| free|Bridgeport-Stamfo...|   PUT|   NextSong|1538016340000|      133|         No Surprise|   200|1541415980000|\"Mozilla/5.0 (iPh...|100010| 09-27-2018 08:15:40|11-05-2018 16:36:20|              0|             0|          0|\n",
      "|           Erin Bode|Logged In| Darianna|     F|           32|Carpenter|252.05506| free|Bridgeport-Stamfo...|   PUT|   NextSong|1538016340000|      133|Here_ There And E...|   200|1541416996000|\"Mozilla/5.0 (iPh...|100010| 09-27-2018 08:15:40|11-05-2018 16:53:16|              0|             0|          0|\n",
      "|             Daddy X|Logged In| Darianna|     F|           15|Carpenter|220.29016| free|Bridgeport-Stamfo...|   PUT|   NextSong|1538016340000|      133|               Money|   200|1541414652000|\"Mozilla/5.0 (iPh...|100010| 09-27-2018 08:15:40|11-05-2018 16:14:12|              0|             0|          0|\n",
      "|      The Cat Empire|Logged In| Darianna|     F|           67|Carpenter|441.86077| free|Bridgeport-Stamfo...|   PUT|   NextSong|1538016340000|      133|       The Wine Song|   200|1541423275000|\"Mozilla/5.0 (iPh...|100010| 09-27-2018 08:15:40|11-05-2018 18:37:55|              0|             0|          0|\n",
      "|            Bon Jovi|Logged In| Darianna|     F|          102|Carpenter|  224.522| free|Bridgeport-Stamfo...|   PUT|   NextSong|1538016340000|      174|        It's My Life|   200|1541749667000|\"Mozilla/5.0 (iPh...|100010| 09-27-2018 08:15:40|11-09-2018 13:17:47|              0|             0|          0|\n",
      "|            BjÃÂ¶rk|Logged In| Darianna|     F|           24|Carpenter|348.57751| free|Bridgeport-Stamfo...|   PUT|   NextSong|1538016340000|      118|                Undo|   200|1540049200000|\"Mozilla/5.0 (iPh...|100010| 09-27-2018 08:15:40|10-20-2018 20:56:40|              0|             0|          0|\n",
      "|             Shakira|Logged In| Darianna|     F|           52|Carpenter|227.34322| free|Bridgeport-Stamfo...|   PUT|   NextSong|1538016340000|      133|Did It Again (fea...|   200|1541420264000|\"Mozilla/5.0 (iPh...|100010| 09-27-2018 08:15:40|11-05-2018 17:47:44|              0|             0|          0|\n",
      "|                null|Logged In| Darianna|     F|            3|Carpenter|      0.0| free|Bridgeport-Stamfo...|   GET|Roll Advert|1538016340000|      118|                null|   200|1540045400000|\"Mozilla/5.0 (iPh...|100010| 09-27-2018 08:15:40|10-20-2018 19:53:20|              0|             0|          0|\n",
      "|                null|Logged In| Darianna|     F|           13|Carpenter|      0.0| free|Bridgeport-Stamfo...|   GET|       Home|1538016340000|      118|                null|   200|1540047107000|\"Mozilla/5.0 (iPh...|100010| 09-27-2018 08:15:40|10-20-2018 20:21:47|              0|             0|          0|\n",
      "|       Lonnie Gordon|Logged In| Darianna|     F|            7|Carpenter|181.21098| free|Bridgeport-Stamfo...|   PUT|   NextSong|1538016340000|      187|Catch You Baby (S...|   200|1542818892000|\"Mozilla/5.0 (iPh...|100010| 09-27-2018 08:15:40|11-21-2018 22:18:12|              0|             0|          0|\n",
      "|            Savatage|Logged In| Darianna|     F|            2|Carpenter|197.45914| free|Bridgeport-Stamfo...|   PUT|   NextSong|1538016340000|      118|               Drive|   200|1540045376000|\"Mozilla/5.0 (iPh...|100010| 09-27-2018 08:15:40|10-20-2018 19:52:56|              0|             0|          0|\n",
      "|Audio Bullys Feat...|Logged In| Darianna|     F|          105|Carpenter|177.34485| free|Bridgeport-Stamfo...|   PUT|   NextSong|1538016340000|      174|Shot You Down (Ra...|   200|1541750488000|\"Mozilla/5.0 (iPh...|100010| 09-27-2018 08:15:40|11-09-2018 13:31:28|              0|             0|          0|\n",
      "|California Swag D...|Logged In| Darianna|     F|            2|Carpenter|239.17669| free|Bridgeport-Stamfo...|   PUT|   NextSong|1538016340000|       78|Teach Me How To D...|   200|1539603825000|\"Mozilla/5.0 (iPh...|100010| 09-27-2018 08:15:40|10-15-2018 17:13:45|              0|             0|          0|\n",
      "|      CÃÂ©line Dion|Logged In| Darianna|     F|            4|Carpenter|280.78975| free|Bridgeport-Stamfo...|   PUT|   NextSong|1538016340000|      118| My Heart Will Go On|   200|1540045573000|\"Mozilla/5.0 (iPh...|100010| 09-27-2018 08:15:40|10-20-2018 19:56:13|              0|             0|          0|\n",
      "|          Ron Carter|Logged In| Darianna|     F|            0|Carpenter|497.13587| free|Bridgeport-Stamfo...|   PUT|   NextSong|1538016340000|      133| I CAN'T GET STARTED|   200|1541411290000|\"Mozilla/5.0 (iPh...|100010| 09-27-2018 08:15:40|11-05-2018 15:18:10|              0|             0|          0|\n",
      "+--------------------+---------+---------+------+-------------+---------+---------+-----+--------------------+------+-----------+-------------+---------+--------------------+------+-------------+--------------------+------+--------------------+-------------------+---------------+--------------+-----------+\n",
      "only showing top 20 rows\n",
      "\n"
     ]
    }
   ],
   "source": [
    "# define a churn label\n",
    "churn_value = udf(lambda x: 1 if x == 'Cancellation Confirmation' else 0, IntegerType())\n",
    "df_spark = df_spark.withColumn(\"churn_value\", churn_value(\"page\"))\n",
    "df_spark.show()"
   ]
  },
  {
   "cell_type": "code",
   "execution_count": 26,
   "metadata": {},
   "outputs": [],
   "source": [
    "# find all users who churned\n",
    "churn_window = Window.partitionBy('UserId')\n",
    "df_spark = df_spark.withColumn(\"user_churn\", max('churn_value').over(churn_window))"
   ]
  },
  {
   "cell_type": "code",
   "execution_count": 27,
   "metadata": {},
   "outputs": [
    {
     "name": "stdout",
     "output_type": "stream",
     "text": [
      "+------+---------+-----+-------------------+----------+--------------+\n",
      "|userId|firstName|level|         updated_ts|user_churn|user_downgrade|\n",
      "+------+---------+-----+-------------------+----------+--------------+\n",
      "|100010| Darianna| free|11-09-2018 08:20:59|         0|             0|\n",
      "|200002|  Dominic| free|10-17-2018 00:12:39|         0|             0|\n",
      "|   125|    Mason| free|10-12-2018 10:05:17|         1|             0|\n",
      "|   124|   Nicole| paid|10-02-2018 05:55:18|         0|             0|\n",
      "|    51|    Ethan| paid|10-01-2018 20:19:15|         1|             0|\n",
      "|     7|   Maddox| free|10-24-2018 08:18:34|         0|             0|\n",
      "|    15|    Panav| paid|10-01-2018 17:24:38|         0|             0|\n",
      "|    54|    Alexi| paid|10-02-2018 00:34:55|         1|             1|\n",
      "|   155|   Camila| paid|11-09-2018 13:52:02|         0|             0|\n",
      "|100014|  Rodrigo| paid|10-10-2018 21:49:53|         1|             0|\n",
      "+------+---------+-----+-------------------+----------+--------------+\n",
      "only showing top 10 rows\n",
      "\n"
     ]
    }
   ],
   "source": [
    "# selecting few users to see\n",
    "df_spark.select(['userId', 'firstName', 'level','updated_ts','user_churn', 'user_downgrade']).dropDuplicates(subset = ['userId']).show(10)"
   ]
  },
  {
   "cell_type": "code",
   "execution_count": 28,
   "metadata": {},
   "outputs": [
    {
     "name": "stdout",
     "output_type": "stream",
     "text": [
      "+--------------------+\n",
      "|                page|\n",
      "+--------------------+\n",
      "|              Cancel|\n",
      "|    Submit Downgrade|\n",
      "|         Thumbs Down|\n",
      "|                Home|\n",
      "|           Downgrade|\n",
      "|         Roll Advert|\n",
      "|              Logout|\n",
      "|       Save Settings|\n",
      "|Cancellation Conf...|\n",
      "|               About|\n",
      "|            Settings|\n",
      "|     Add to Playlist|\n",
      "|          Add Friend|\n",
      "|            NextSong|\n",
      "|           Thumbs Up|\n",
      "|                Help|\n",
      "|             Upgrade|\n",
      "|               Error|\n",
      "|      Submit Upgrade|\n",
      "+--------------------+\n",
      "\n"
     ]
    }
   ],
   "source": [
    "# Display all unique pages\n",
    "df_spark.select(\"page\").dropDuplicates().show()"
   ]
  },
  {
   "cell_type": "code",
   "execution_count": 29,
   "metadata": {},
   "outputs": [
    {
     "name": "stdout",
     "output_type": "stream",
     "text": [
      "+----------+------+-----+\n",
      "|user_churn|gender|count|\n",
      "+----------+------+-----+\n",
      "|         0|     M|   89|\n",
      "|         0|     F|   84|\n",
      "|         1|     F|   20|\n",
      "|         1|     M|   32|\n",
      "+----------+------+-----+\n",
      "\n"
     ]
    }
   ],
   "source": [
    "# gender distribution between churn users and regular users\n",
    "df_spark.drop_duplicates(['userId', 'gender']).groupby(['user_churn', 'gender']).count().sort(\"user_churn\").show()"
   ]
  },
  {
   "cell_type": "code",
   "execution_count": 30,
   "metadata": {},
   "outputs": [
    {
     "data": {
      "text/plain": [
       "<matplotlib.axes._subplots.AxesSubplot at 0x7fa4222d1fd0>"
      ]
     },
     "execution_count": 30,
     "metadata": {},
     "output_type": "execute_result"
    },
    {
     "data": {
      "image/png": "[encoded data removed]",
      "text/plain": [
       "<Figure size 432x288 with 1 Axes>"
      ]
     },
     "metadata": {
      "needs_background": "light"
     },
     "output_type": "display_data"
    }
   ],
   "source": [
    "# Plotting a bar plot to show gender distribution between regular and churn users\n",
    "df_ch_pd = df_spark.drop_duplicates(['userId', 'gender']).groupby(['user_churn', 'gender']).count().sort(\"user_churn\").toPandas()\n",
    "sns.barplot(x = 'user_churn', y = 'count', data = df_ch_pd, hue = 'gender')"
   ]
  },
  {
   "cell_type": "code",
   "execution_count": 31,
   "metadata": {},
   "outputs": [
    {
     "data": {
      "text/plain": [
       "<matplotlib.axes._subplots.AxesSubplot at 0x7fa42ce7d710>"
      ]
     },
     "execution_count": 31,
     "metadata": {},
     "output_type": "execute_result"
    },
    {
     "data": {
      "image/png": "[encoded data removed]",
      "text/plain": [
       "<Figure size 432x288 with 1 Axes>"
      ]
     },
     "metadata": {
      "needs_background": "light"
     },
     "output_type": "display_data"
    }
   ],
   "source": [
    "# Finding out which level customers churn more\n",
    "level_df = df_spark.filter('page == \"Cancellation Confirmation\"').groupby('level').count().toPandas()\n",
    "sns.barplot(data = level_df, x = 'level', y = 'count', color = sns.color_palette()[0])"
   ]
  },
  {
   "cell_type": "code",
   "execution_count": 32,
   "metadata": {},
   "outputs": [
    {
     "name": "stderr",
     "output_type": "stream",
     "text": [
      "/home/rashmi/anaconda3/lib/python3.7/site-packages/seaborn/_decorators.py:43: FutureWarning: Pass the following variable as a keyword arg: x. From version 0.12, the only valid positional argument will be `data`, and passing other arguments without an explicit keyword will result in an error or misinterpretation.\n",
      "  FutureWarning\n"
     ]
    },
    {
     "data": {
      "image/png": "[encoded data removed]",
      "text/plain": [
       "<Figure size 432x288 with 1 Axes>"
      ]
     },
     "metadata": {
      "needs_background": "light"
     },
     "output_type": "display_data"
    }
   ],
   "source": [
    "# Lets observe the gender distribution for number of songs played per session for churned and normal users\n",
    "total_songs_df = df_spark.where('page == \"NextSong\"').groupby(['user_churn', 'userId', 'sessionId', 'gender']).count()\\\n",
    "    .groupby(['user_churn', 'userId', 'gender']).agg({'count': 'avg'})\\\n",
    "    .withColumnRenamed('avg(count)', 'avg_played_songs').toPandas()\n",
    "\n",
    "ax = sns.violinplot('user_churn', y = 'avg_played_songs', hue = 'gender', data = total_songs_df)"
   ]
  },
  {
   "cell_type": "code",
   "execution_count": 33,
   "metadata": {},
   "outputs": [
    {
     "data": {
      "text/plain": [
       "<matplotlib.axes._subplots.AxesSubplot at 0x7fa423a69990>"
      ]
     },
     "execution_count": 33,
     "metadata": {},
     "output_type": "execute_result"
    },
    {
     "data": {
      "image/png": "[encoded data removed]",
      "text/plain": [
       "<Figure size 432x288 with 1 Axes>"
      ]
     },
     "metadata": {
      "needs_background": "light"
     },
     "output_type": "display_data"
    }
   ],
   "source": [
    "# Let's observe the gender distribution for total operations per session between normal and churned users\n",
    "df_ops = df_spark.groupby(\"user_churn\", \"userId\", \"sessionId\", 'gender').count().toPandas()\n",
    "sns.boxplot(x = 'count', y = 'user_churn', orient = 'horizontal', data = df_ops, hue = 'gender')"
   ]
  },
  {
   "cell_type": "code",
   "execution_count": 34,
   "metadata": {},
   "outputs": [
    {
     "data": {
      "text/plain": [
       "[Row(Number_of_Rows=286500)]"
      ]
     },
     "execution_count": 34,
     "metadata": {},
     "output_type": "execute_result"
    }
   ],
   "source": [
    "spark.sql(\"SELECT COUNT(*) AS Number_of_Rows FROM user_log_table\").collect()"
   ]
  },
  {
   "cell_type": "code",
   "execution_count": null,
   "metadata": {},
   "outputs": [],
   "source": []
  },
  {
   "cell_type": "code",
   "execution_count": 35,
   "metadata": {},
   "outputs": [
    {
     "name": "stdout",
     "output_type": "stream",
     "text": [
      "+--------+\n",
      "|count(1)|\n",
      "+--------+\n",
      "|       0|\n",
      "+--------+\n",
      "\n"
     ]
    }
   ],
   "source": [
    "spark.sql(\"SELECT COUNT(*) FROM user_log_valid_table WHERE level<>'free' AND level<>'paid'\").show()"
   ]
  },
  {
   "cell_type": "code",
   "execution_count": 36,
   "metadata": {},
   "outputs": [
    {
     "name": "stdout",
     "output_type": "stream",
     "text": [
      "+---------+---------------+--------------------+\n",
      "|sessionId|           page|                song|\n",
      "+---------+---------------+--------------------+\n",
      "|      183|           Help|                null|\n",
      "|      183|       NextSong|Loving You (Dark ...|\n",
      "|      183|       NextSong|        Panic Attack|\n",
      "|      183|        Upgrade|                null|\n",
      "|      183| Submit Upgrade|                null|\n",
      "|      183|           Home|                null|\n",
      "|      183|         Logout|                null|\n",
      "|      183|           Home|                null|\n",
      "|      183|       NextSong|             Phantom|\n",
      "|      183|       NextSong|Bizarre Love Tria...|\n",
      "|      183|       NextSong|         The Hollows|\n",
      "|      183|       NextSong|      You're The One|\n",
      "|      183|       NextSong|          Who's Real|\n",
      "|      183|           Home|                null|\n",
      "|      183|       NextSong| Frozen Orange Juice|\n",
      "|      183|       NextSong|      Freedom Sounds|\n",
      "|      183|       NextSong|             Silence|\n",
      "|      183|       NextSong|    Shacklyn Knights|\n",
      "|      183|       NextSong|     This Is England|\n",
      "|      183|       NextSong|       Skyway Avenue|\n",
      "|      183|       NextSong|           Fu-Gee-La|\n",
      "|      183|      Thumbs Up|                null|\n",
      "|      183|       NextSong|       Sehr kosmisch|\n",
      "|      183|       NextSong|I'm Made Of Wax_ ...|\n",
      "|      183|       NextSong|     A Woman's Worth|\n",
      "|      183|       NextSong|           Wide Eyes|\n",
      "|      183|       NextSong|First Day Of My L...|\n",
      "|      183|       NextSong|       The Deadroads|\n",
      "|      183|       NextSong|C.I.U. (Criminals...|\n",
      "|      183|       NextSong|You Don't Love Me...|\n",
      "|      183|       NextSong|I Wanna Be Sedate...|\n",
      "|      183|       NextSong|Run Through The J...|\n",
      "|      183|       NextSong|  There Goes My Baby|\n",
      "|      183|       NextSong|Goodnight Bad Mor...|\n",
      "|      183|       NextSong|      Noche De Ronda|\n",
      "|      183|       NextSong|Be There (LP Vers...|\n",
      "|      183|       NextSong|          Radar Love|\n",
      "|      183|       NextSong| The Stir of Seasons|\n",
      "|      183|       NextSong|                1.36|\n",
      "|      183|       NextSong|       When I'm Gone|\n",
      "|      183|       NextSong|             Missing|\n",
      "|      183|       NextSong|      Drop The World|\n",
      "|      183|       NextSong|               Mamma|\n",
      "|      183|       NextSong|          Le Million|\n",
      "|      183|       NextSong|      Gives You Hell|\n",
      "|      183|       NextSong|                 Hey|\n",
      "|      183|       NextSong|          Cave Mouth|\n",
      "|      183|       NextSong|KÃÂ¤pt'N Horn (F...|\n",
      "|      183|       NextSong|                Nena|\n",
      "|      183|     Add Friend|                null|\n",
      "|      183|         Logout|                null|\n",
      "|      183|           Home|                null|\n",
      "|      183|       NextSong|              Cavern|\n",
      "|      183|       NextSong|All Your Reasons ...|\n",
      "|      183|       NextSong|Thank You for Bei...|\n",
      "|      183|       NextSong|Easier To Run (Al...|\n",
      "|      183|       NextSong|    Blind Bartimaeus|\n",
      "|      183|       NextSong|          Loud Pipes|\n",
      "|      183|       NextSong|    Hey_ Soul Sister|\n",
      "|      183|       NextSong|Querer Y Perder (...|\n",
      "|      183|Add to Playlist|                null|\n",
      "|      482|       NextSong|          Heiterkeit|\n",
      "|      482|       NextSong|     OVO MI JE `KOLA|\n",
      "|      482|       NextSong|I Hate Everything...|\n",
      "|      482|       NextSong|          Wild Child|\n",
      "|      482|       NextSong| Codinome Beija Flor|\n",
      "|      482|       NextSong|      Me siento bien|\n",
      "|      482|Add to Playlist|                null|\n",
      "|      482|       NextSong|  Such Great Heights|\n",
      "|      482|       NextSong|        Broken Stars|\n",
      "|      482|       NextSong|             Proceed|\n",
      "|      482|       NextSong|      Thickfreakness|\n",
      "|      482|       NextSong|            Unspoken|\n",
      "|      482|       NextSong|           Jetstream|\n",
      "|      482|       NextSong|  Gran Idolo De Asia|\n",
      "|      482|         Logout|                null|\n",
      "|      482|           Home|                null|\n",
      "|      482|       NextSong|           Something|\n",
      "|      482|       NextSong|Storm In A Teacup...|\n",
      "|      482|       NextSong|It's Time I Go (J...|\n",
      "|      482|       NextSong|  Party Like I Party|\n",
      "|      482|       NextSong|    It's Not My Time|\n",
      "|      482|    Thumbs Down|                null|\n",
      "|      482|       NextSong|    Steppers Delight|\n",
      "|      482|          About|                null|\n",
      "|      758|       NextSong|           Fireworks|\n",
      "|      758|       NextSong|        Day 'N' Nite|\n",
      "|      758|       NextSong|Dickes B (Single-...|\n",
      "|      758|       NextSong|Lay It Down (2007...|\n",
      "|      758|      Thumbs Up|                null|\n",
      "|      758|       NextSong|Goodbye Philadelp...|\n",
      "|      758|       NextSong|     Mexican Seafood|\n",
      "|      758|       NextSong|  Livin' On A Prayer|\n",
      "|      758|       NextSong|  The Way Love Looks|\n",
      "|      758|       NextSong|        Goodbye Earl|\n",
      "|      758|       NextSong|       Big Big World|\n",
      "|      758|       NextSong|     I Kissed A Girl|\n",
      "|      758|       NextSong|  All That She Wants|\n",
      "|      758|      Thumbs Up|                null|\n",
      "|      758|       NextSong|        The Far Road|\n",
      "+---------+---------------+--------------------+\n",
      "only showing top 100 rows\n",
      "\n"
     ]
    }
   ],
   "source": [
    "spark.sql(\"SELECT sessionId, page, song FROM user_log_valid_table WHERE userId = '44' ORDER BY sessionId, itemInSession\").show(100)"
   ]
  },
  {
   "cell_type": "code",
   "execution_count": 37,
   "metadata": {},
   "outputs": [
    {
     "data": {
      "text/plain": [
       "[Row(count(1)=23184)]"
      ]
     },
     "execution_count": 37,
     "metadata": {},
     "output_type": "execute_result"
    }
   ],
   "source": [
    "spark.sql(\"SELECT COUNT(*) FROM user_log_valid_table WHERE status =='307' OR status =='paid'\").collect()"
   ]
  },
  {
   "cell_type": "code",
   "execution_count": 38,
   "metadata": {},
   "outputs": [
    {
     "name": "stdout",
     "output_type": "stream",
     "text": [
      "+------+-----+\n",
      "|status|level|\n",
      "+------+-----+\n",
      "|   307| free|\n",
      "|   200| paid|\n",
      "|   404| paid|\n",
      "|   307| paid|\n",
      "|   200| free|\n",
      "|   404| free|\n",
      "+------+-----+\n",
      "\n"
     ]
    }
   ],
   "source": [
    "spark.sql(\"SELECT DISTINCT status, level FROM user_log_valid_table\").show()"
   ]
  },
  {
   "cell_type": "code",
   "execution_count": 39,
   "metadata": {},
   "outputs": [
    {
     "name": "stdout",
     "output_type": "stream",
     "text": [
      "+-----+-----+-------+\n",
      "|total| zero|nonzero|\n",
      "+-----+-----+-------+\n",
      "|65416|64903|    513|\n",
      "+-----+-----+-------+\n",
      "\n"
     ]
    }
   ],
   "source": [
    "spark.sql('''SELECT COUNT(*) AS total, SUM (CASE WHEN diff = 0 THEN 1 ELSE 0 END) zero, SUM (CASE WHEN diff != 0 THEN 1 ELSE 0 END) nonzero\n",
    "FROM (SELECT artist, song, MAX(length)-MIN(length) AS diff\n",
    "FROM user_log_valid_table\n",
    "WHERE song IS NOT NULL\n",
    "GROUP BY artist, song)''').show()"
   ]
  },
  {
   "cell_type": "code",
   "execution_count": 40,
   "metadata": {},
   "outputs": [
    {
     "data": {
      "text/plain": [
       "1543799476000"
      ]
     },
     "execution_count": 40,
     "metadata": {},
     "output_type": "execute_result"
    }
   ],
   "source": [
    "# get max timestamp (this is to compute timeRegistered below)\n",
    "max_ts = spark.sql(\"SELECT MAX(ts) FROM user_log_valid_table\").collect()[0][0]\n",
    "max_ts"
   ]
  },
  {
   "cell_type": "code",
   "execution_count": 41,
   "metadata": {},
   "outputs": [
    {
     "data": {
      "text/plain": [
       "datetime.datetime(2018, 12, 3, 1, 11, 16)"
      ]
     },
     "execution_count": 41,
     "metadata": {},
     "output_type": "execute_result"
    }
   ],
   "source": [
    "pd.to_datetime(max_ts, unit='ms').to_pydatetime()"
   ]
  },
  {
   "cell_type": "code",
   "execution_count": 42,
   "metadata": {},
   "outputs": [
    {
     "name": "stdout",
     "output_type": "stream",
     "text": [
      "+-------------+\n",
      "|count(userId)|\n",
      "+-------------+\n",
      "|       222433|\n",
      "|        55721|\n",
      "+-------------+\n",
      "\n"
     ]
    }
   ],
   "source": [
    "spark.sql(\"SELECT DISTINCT COUNT(userId) FROM user_log_valid_table GROUP BY Level\").show()"
   ]
  },
  {
   "cell_type": "code",
   "execution_count": 43,
   "metadata": {},
   "outputs": [
    {
     "name": "stdout",
     "output_type": "stream",
     "text": [
      "+-----+-------------+\n",
      "|Level|count(userId)|\n",
      "+-----+-------------+\n",
      "| free|        41991|\n",
      "| paid|       186117|\n",
      "+-----+-------------+\n",
      "\n"
     ]
    }
   ],
   "source": [
    "spark.sql(\"SELECT DISTINCT Level, COUNT(userId) FROM user_log_valid_table WHERE page = 'NextSong' GROUP BY Level\").show()"
   ]
  },
  {
   "cell_type": "code",
   "execution_count": null,
   "metadata": {},
   "outputs": [],
   "source": []
  },
  {
   "cell_type": "markdown",
   "metadata": {},
   "source": [
    "# Feature Engineering\n",
    "Once you've familiarized yourself with the data, build out the features you find promising to train your model on. To work with the full dataset, you can follow the following steps.\n",
    "- Write a script to extract the necessary features from the smaller subset of data\n",
    "- Ensure that your script is scalable, using the best practices discussed in Lesson 3\n",
    "- Try your script on the full data set, debugging your script if necessary\n",
    "\n",
    "If you are working in the classroom workspace, you can just extract features based on the small subset of data contained here. Be sure to transfer over this work to the larger dataset when you work on your Spark cluster."
   ]
  },
  {
   "cell_type": "code",
   "execution_count": 44,
   "metadata": {},
   "outputs": [
    {
     "name": "stdout",
     "output_type": "stream",
     "text": [
      "+------+---------+\n",
      "|userId|tot_songs|\n",
      "+------+---------+\n",
      "|100010|      381|\n",
      "|200002|      474|\n",
      "|   125|       11|\n",
      "|   124|     4825|\n",
      "|    51|     2464|\n",
      "|     7|      201|\n",
      "|    15|     2278|\n",
      "|    54|     3437|\n",
      "|   155|     1002|\n",
      "|100014|      310|\n",
      "|   132|     2304|\n",
      "|   154|      118|\n",
      "|   101|     2149|\n",
      "|    11|      848|\n",
      "|   138|     2469|\n",
      "|300017|     4428|\n",
      "|100021|      319|\n",
      "|    29|     3603|\n",
      "|    69|     1342|\n",
      "|   112|      292|\n",
      "+------+---------+\n",
      "only showing top 20 rows\n",
      "\n"
     ]
    }
   ],
   "source": [
    "# Feature 1 : Total number of  songs listened\n",
    "feat_1 = df_spark.select('userId', 'song').groupBy('userId').count().withColumnRenamed('count', 'tot_songs')\n",
    "feat_1.show()"
   ]
  },
  {
   "cell_type": "code",
   "execution_count": 45,
   "metadata": {},
   "outputs": [
    {
     "name": "stdout",
     "output_type": "stream",
     "text": [
      "+------+-------------+\n",
      "|userId|tot_thumbs_up|\n",
      "+------+-------------+\n",
      "|100010|           17|\n",
      "|200002|           21|\n",
      "|   124|          171|\n",
      "|    51|          100|\n",
      "|     7|            7|\n",
      "|    15|           81|\n",
      "|    54|          163|\n",
      "|   155|           58|\n",
      "|100014|           17|\n",
      "|   132|           96|\n",
      "|   154|           11|\n",
      "|   101|           86|\n",
      "|    11|           40|\n",
      "|   138|           95|\n",
      "|300017|          303|\n",
      "|100021|           11|\n",
      "|    29|          154|\n",
      "|    69|           72|\n",
      "|   112|            9|\n",
      "|    42|          166|\n",
      "+------+-------------+\n",
      "only showing top 20 rows\n",
      "\n"
     ]
    }
   ],
   "source": [
    "# Feature 2 : Number of thumbs up\n",
    "feat_2 = df_spark.select('userId', 'page').where(df_spark.page == 'Thumbs Up').groupBy('userId').count().withColumnRenamed('count', 'tot_thumbs_up')\n",
    "feat_2.show()"
   ]
  },
  {
   "cell_type": "code",
   "execution_count": 46,
   "metadata": {},
   "outputs": [
    {
     "name": "stdout",
     "output_type": "stream",
     "text": [
      "+------+---------------+\n",
      "|userId|tot_thumbs_down|\n",
      "+------+---------------+\n",
      "|100010|              5|\n",
      "|200002|              6|\n",
      "|   124|             41|\n",
      "|    51|             21|\n",
      "|     7|              1|\n",
      "|    15|             14|\n",
      "|    54|             29|\n",
      "|   155|              3|\n",
      "|100014|              3|\n",
      "|   132|             17|\n",
      "|   101|             16|\n",
      "|    11|              9|\n",
      "|   138|             24|\n",
      "|300017|             28|\n",
      "|100021|              5|\n",
      "|    29|             22|\n",
      "|    69|              9|\n",
      "|   112|              3|\n",
      "|    42|             25|\n",
      "|    73|              7|\n",
      "+------+---------------+\n",
      "only showing top 20 rows\n",
      "\n"
     ]
    }
   ],
   "source": [
    "# Feature 3 : Number of thumbs down\n",
    "feat_3 = df_spark.select('userId', 'page').where(df_spark.page == 'Thumbs Down').groupBy('userId').count().withColumnRenamed('count', 'tot_thumbs_down')\n",
    "feat_3.show()"
   ]
  },
  {
   "cell_type": "code",
   "execution_count": 47,
   "metadata": {},
   "outputs": [
    {
     "name": "stdout",
     "output_type": "stream",
     "text": [
      "+------+------------------+\n",
      "|userId|      tot_lifetime|\n",
      "+------+------------------+\n",
      "|100010|  55.6436574074074|\n",
      "|200002| 70.07462962962963|\n",
      "|   125| 71.31688657407408|\n",
      "|   124|131.55591435185184|\n",
      "|    51|19.455844907407407|\n",
      "|     7| 72.77818287037037|\n",
      "|    15|56.513576388888886|\n",
      "|    54|110.75168981481481|\n",
      "|   155|23.556018518518517|\n",
      "|100014| 85.08340277777778|\n",
      "|   132|  66.8891087962963|\n",
      "|   154|23.872037037037035|\n",
      "|   101|53.965937499999995|\n",
      "|    11|124.47825231481481|\n",
      "|   138| 66.62668981481481|\n",
      "|300017| 74.35851851851852|\n",
      "|100021| 64.73886574074074|\n",
      "|    29|60.104050925925925|\n",
      "|    69| 71.42444444444445|\n",
      "|   112| 87.46262731481481|\n",
      "+------+------------------+\n",
      "only showing top 20 rows\n",
      "\n"
     ]
    }
   ],
   "source": [
    "# Feature 4 : Total time since registration\n",
    "feat_4 = df_spark.select('userId', 'registration', 'ts').withColumn('tot_lifetime', (df_spark.ts - df_spark.registration))\\\n",
    "    .groupBy('userId').agg({'tot_lifetime' : 'max'})\\\n",
    "    .withColumnRenamed('max(tot_lifetime)', 'tot_lifetime')\\\n",
    "    .select('userId', (col('tot_lifetime')/1000/3600/24).alias('tot_lifetime'))\n",
    "feat_4.show()"
   ]
  },
  {
   "cell_type": "code",
   "execution_count": 48,
   "metadata": {},
   "outputs": [
    {
     "name": "stdout",
     "output_type": "stream",
     "text": [
      "+------+------------------+\n",
      "|userId|   tot_listen_time|\n",
      "+------+------------------+\n",
      "|100010| 66940.89735000006|\n",
      "|200002| 94008.87593999998|\n",
      "|   125|         2089.1131|\n",
      "|   124|1012312.0927900008|\n",
      "|    51| 523275.8428000004|\n",
      "|     7|        38034.0871|\n",
      "|    15| 477307.6058100001|\n",
      "|    54| 711344.9195399997|\n",
      "|   155| 198779.2918999997|\n",
      "|100014| 67703.47208000004|\n",
      "|   132|483118.90383999917|\n",
      "|   154|       20660.02391|\n",
      "|   101|447464.01466999913|\n",
      "|    11|159669.96304000006|\n",
      "|   138|512449.88275999844|\n",
      "|300017| 897406.9802099987|\n",
      "|100021|       57633.17564|\n",
      "|    29| 754517.5625700006|\n",
      "|    69|286064.02563999995|\n",
      "|   112|53062.746590000024|\n",
      "+------+------------------+\n",
      "only showing top 20 rows\n",
      "\n"
     ]
    }
   ],
   "source": [
    "# Feature 5 : Total length of listening utilizing all services\n",
    "\n",
    "\n",
    "feat_5 = df_spark.select(\"userId\", 'length').groupBy('userId').sum().withColumnRenamed('sum(length)', 'tot_listen_time')\n",
    "feat_5.show()"
   ]
  },
  {
   "cell_type": "code",
   "execution_count": 49,
   "metadata": {},
   "outputs": [
    {
     "name": "stdout",
     "output_type": "stream",
     "text": [
      "+--------------------+---------+---------+------+-------------+---------+---------+-----+--------------------+------+-----------+-------------+---------+--------------------+------+-------------+--------------------+------+--------------------+-------------------+---------------+--------------+-----------+----------+\n",
      "|              artist|     auth|firstName|gender|itemInSession| lastName|   length|level|            location|method|       page| registration|sessionId|                song|status|           ts|           userAgent|userId|updated_registration|         updated_ts|downgrade_value|user_downgrade|churn_value|user_churn|\n",
      "+--------------------+---------+---------+------+-------------+---------+---------+-----+--------------------+------+-----------+-------------+---------+--------------------+------+-------------+--------------------+------+--------------------+-------------------+---------------+--------------+-----------+----------+\n",
      "|                Bebe|Logged In| Darianna|     F|            1|Carpenter|225.77587| free|Bridgeport-Stamfo...|   PUT|   NextSong|1538016340000|      174|    Men SeÃÂ±arÃÂ¡|   200|1541731859000|\"Mozilla/5.0 (iPh...|100010| 09-27-2018 08:15:40|11-09-2018 08:20:59|              0|             0|          0|         0|\n",
      "|            The Ruts|Logged In| Darianna|     F|           44|Carpenter|338.96444| free|Bridgeport-Stamfo...|   PUT|   NextSong|1538016340000|      118|West One (Shine O...|   200|1540052737000|\"Mozilla/5.0 (iPh...|100010| 09-27-2018 08:15:40|10-20-2018 21:55:37|              0|             0|          0|         0|\n",
      "|                null|Logged In| Darianna|     F|           21|Carpenter|      0.0| free|Bridgeport-Stamfo...|   PUT|     Logout|1538016340000|      133|                null|   307|1541415422000|\"Mozilla/5.0 (iPh...|100010| 09-27-2018 08:15:40|11-05-2018 16:27:02|              0|             0|          0|         0|\n",
      "|             Shakira|Logged In| Darianna|     F|           51|Carpenter|363.38893| free|Bridgeport-Stamfo...|   PUT|   NextSong|1538016340000|      133|       Octavo DÃÂ­a|   200|1541419901000|\"Mozilla/5.0 (iPh...|100010| 09-27-2018 08:15:40|11-05-2018 17:41:41|              0|             0|          0|         0|\n",
      "|                null|Logged In| Darianna|     F|          100|Carpenter|      0.0| free|Bridgeport-Stamfo...|   GET|Roll Advert|1538016340000|      174|                null|   200|1541749370000|\"Mozilla/5.0 (iPh...|100010| 09-27-2018 08:15:40|11-09-2018 13:12:50|              0|             0|          0|         0|\n",
      "|            Daughtry|Logged In| Darianna|     F|           28|Carpenter|249.91302| free|Bridgeport-Stamfo...|   PUT|   NextSong|1538016340000|      133|         No Surprise|   200|1541415980000|\"Mozilla/5.0 (iPh...|100010| 09-27-2018 08:15:40|11-05-2018 16:36:20|              0|             0|          0|         0|\n",
      "|           Erin Bode|Logged In| Darianna|     F|           32|Carpenter|252.05506| free|Bridgeport-Stamfo...|   PUT|   NextSong|1538016340000|      133|Here_ There And E...|   200|1541416996000|\"Mozilla/5.0 (iPh...|100010| 09-27-2018 08:15:40|11-05-2018 16:53:16|              0|             0|          0|         0|\n",
      "|             Daddy X|Logged In| Darianna|     F|           15|Carpenter|220.29016| free|Bridgeport-Stamfo...|   PUT|   NextSong|1538016340000|      133|               Money|   200|1541414652000|\"Mozilla/5.0 (iPh...|100010| 09-27-2018 08:15:40|11-05-2018 16:14:12|              0|             0|          0|         0|\n",
      "|      The Cat Empire|Logged In| Darianna|     F|           67|Carpenter|441.86077| free|Bridgeport-Stamfo...|   PUT|   NextSong|1538016340000|      133|       The Wine Song|   200|1541423275000|\"Mozilla/5.0 (iPh...|100010| 09-27-2018 08:15:40|11-05-2018 18:37:55|              0|             0|          0|         0|\n",
      "|            Bon Jovi|Logged In| Darianna|     F|          102|Carpenter|  224.522| free|Bridgeport-Stamfo...|   PUT|   NextSong|1538016340000|      174|        It's My Life|   200|1541749667000|\"Mozilla/5.0 (iPh...|100010| 09-27-2018 08:15:40|11-09-2018 13:17:47|              0|             0|          0|         0|\n",
      "|            BjÃÂ¶rk|Logged In| Darianna|     F|           24|Carpenter|348.57751| free|Bridgeport-Stamfo...|   PUT|   NextSong|1538016340000|      118|                Undo|   200|1540049200000|\"Mozilla/5.0 (iPh...|100010| 09-27-2018 08:15:40|10-20-2018 20:56:40|              0|             0|          0|         0|\n",
      "|             Shakira|Logged In| Darianna|     F|           52|Carpenter|227.34322| free|Bridgeport-Stamfo...|   PUT|   NextSong|1538016340000|      133|Did It Again (fea...|   200|1541420264000|\"Mozilla/5.0 (iPh...|100010| 09-27-2018 08:15:40|11-05-2018 17:47:44|              0|             0|          0|         0|\n",
      "|                null|Logged In| Darianna|     F|            3|Carpenter|      0.0| free|Bridgeport-Stamfo...|   GET|Roll Advert|1538016340000|      118|                null|   200|1540045400000|\"Mozilla/5.0 (iPh...|100010| 09-27-2018 08:15:40|10-20-2018 19:53:20|              0|             0|          0|         0|\n",
      "|                null|Logged In| Darianna|     F|           13|Carpenter|      0.0| free|Bridgeport-Stamfo...|   GET|       Home|1538016340000|      118|                null|   200|1540047107000|\"Mozilla/5.0 (iPh...|100010| 09-27-2018 08:15:40|10-20-2018 20:21:47|              0|             0|          0|         0|\n",
      "|       Lonnie Gordon|Logged In| Darianna|     F|            7|Carpenter|181.21098| free|Bridgeport-Stamfo...|   PUT|   NextSong|1538016340000|      187|Catch You Baby (S...|   200|1542818892000|\"Mozilla/5.0 (iPh...|100010| 09-27-2018 08:15:40|11-21-2018 22:18:12|              0|             0|          0|         0|\n",
      "|            Savatage|Logged In| Darianna|     F|            2|Carpenter|197.45914| free|Bridgeport-Stamfo...|   PUT|   NextSong|1538016340000|      118|               Drive|   200|1540045376000|\"Mozilla/5.0 (iPh...|100010| 09-27-2018 08:15:40|10-20-2018 19:52:56|              0|             0|          0|         0|\n",
      "|Audio Bullys Feat...|Logged In| Darianna|     F|          105|Carpenter|177.34485| free|Bridgeport-Stamfo...|   PUT|   NextSong|1538016340000|      174|Shot You Down (Ra...|   200|1541750488000|\"Mozilla/5.0 (iPh...|100010| 09-27-2018 08:15:40|11-09-2018 13:31:28|              0|             0|          0|         0|\n",
      "|California Swag D...|Logged In| Darianna|     F|            2|Carpenter|239.17669| free|Bridgeport-Stamfo...|   PUT|   NextSong|1538016340000|       78|Teach Me How To D...|   200|1539603825000|\"Mozilla/5.0 (iPh...|100010| 09-27-2018 08:15:40|10-15-2018 17:13:45|              0|             0|          0|         0|\n",
      "|      CÃÂ©line Dion|Logged In| Darianna|     F|            4|Carpenter|280.78975| free|Bridgeport-Stamfo...|   PUT|   NextSong|1538016340000|      118| My Heart Will Go On|   200|1540045573000|\"Mozilla/5.0 (iPh...|100010| 09-27-2018 08:15:40|10-20-2018 19:56:13|              0|             0|          0|         0|\n",
      "|          Ron Carter|Logged In| Darianna|     F|            0|Carpenter|497.13587| free|Bridgeport-Stamfo...|   PUT|   NextSong|1538016340000|      133| I CAN'T GET STARTED|   200|1541411290000|\"Mozilla/5.0 (iPh...|100010| 09-27-2018 08:15:40|11-05-2018 15:18:10|              0|             0|          0|         0|\n",
      "+--------------------+---------+---------+------+-------------+---------+---------+-----+--------------------+------+-----------+-------------+---------+--------------------+------+-------------+--------------------+------+--------------------+-------------------+---------------+--------------+-----------+----------+\n",
      "only showing top 20 rows\n",
      "\n"
     ]
    }
   ],
   "source": [
    "df_spark.show()"
   ]
  },
  {
   "cell_type": "code",
   "execution_count": 50,
   "metadata": {},
   "outputs": [
    {
     "name": "stdout",
     "output_type": "stream",
     "text": [
      "+------+-----------+\n",
      "|userId|tot_friends|\n",
      "+------+-----------+\n",
      "|100010|          4|\n",
      "|200002|          4|\n",
      "|   124|         74|\n",
      "|    51|         28|\n",
      "|     7|          1|\n",
      "|    15|         31|\n",
      "|    54|         33|\n",
      "|   155|         11|\n",
      "|100014|          6|\n",
      "|   132|         41|\n",
      "|   154|          3|\n",
      "|   101|         29|\n",
      "|    11|          6|\n",
      "|   138|         41|\n",
      "|300017|         63|\n",
      "|100021|          7|\n",
      "|    29|         47|\n",
      "|    69|         12|\n",
      "|   112|          7|\n",
      "|    42|         52|\n",
      "+------+-----------+\n",
      "only showing top 20 rows\n",
      "\n"
     ]
    }
   ],
   "source": [
    "# Feature 6 : Total number of friends\n",
    "feat_6 = df_spark.select('userId', 'page').where(df_spark.page == 'Add Friend').groupBy('userId').count().withColumnRenamed('count', 'tot_friends')\n",
    "feat_6.show()"
   ]
  },
  {
   "cell_type": "code",
   "execution_count": 51,
   "metadata": {},
   "outputs": [
    {
     "name": "stdout",
     "output_type": "stream",
     "text": [
      "+------+------+\n",
      "|userId|gender|\n",
      "+------+------+\n",
      "|    44|     0|\n",
      "|    46|     0|\n",
      "|    41|     0|\n",
      "|    72|     0|\n",
      "|300023|     0|\n",
      "|100010|     0|\n",
      "|    39|     0|\n",
      "|   116|     0|\n",
      "|200001|     1|\n",
      "|200020|     1|\n",
      "|    35|     0|\n",
      "|    40|     0|\n",
      "|    75|     0|\n",
      "|    94|     0|\n",
      "|100008|     0|\n",
      "|200015|     1|\n",
      "|   100|     1|\n",
      "|100006|     0|\n",
      "|300005|     0|\n",
      "|200016|     0|\n",
      "+------+------+\n",
      "only showing top 20 rows\n",
      "\n"
     ]
    }
   ],
   "source": [
    "# Feature 7 : Gender of the user\n",
    "feat_7 = df_spark.select('userId', 'gender').dropDuplicates().replace(['F', 'M'], ['0', '1'], 'gender').select('userId', col('gender').cast('int'))\n",
    "\n",
    "feat_7.show()"
   ]
  },
  {
   "cell_type": "code",
   "execution_count": 52,
   "metadata": {},
   "outputs": [
    {
     "name": "stdout",
     "output_type": "stream",
     "text": [
      "+------+------------------+\n",
      "|userId|  avg_played_songs|\n",
      "+------+------------------+\n",
      "|100010|39.285714285714285|\n",
      "|200002|              64.5|\n",
      "|   125|               8.0|\n",
      "|    51|             211.1|\n",
      "|   124|145.67857142857142|\n",
      "|     7|21.428571428571427|\n",
      "|    54| 81.17142857142858|\n",
      "|    15|136.71428571428572|\n",
      "|   155|136.66666666666666|\n",
      "|100014|42.833333333333336|\n",
      "|   132|             120.5|\n",
      "|   154|              28.0|\n",
      "|   101|             179.7|\n",
      "|    11|           40.4375|\n",
      "|300017|59.540983606557376|\n",
      "|   138|             138.0|\n",
      "|    29| 89.05882352941177|\n",
      "|    69|             125.0|\n",
      "|100021|              46.0|\n",
      "|    42| 87.14634146341463|\n",
      "+------+------------------+\n",
      "only showing top 20 rows\n",
      "\n"
     ]
    }
   ],
   "source": [
    "# Feature 8 : Total number of songs listened per session\n",
    "feat_8  = df_spark.where('page == \"NextSong\"').groupby(['userId', 'sessionId']).count().groupby('userId')\\\n",
    "          .agg({'count' : 'avg'}).withColumnRenamed('avg(count)', 'avg_played_songs')\n",
    "\n",
    "feat_8.show()"
   ]
  },
  {
   "cell_type": "code",
   "execution_count": 53,
   "metadata": {},
   "outputs": [
    {
     "name": "stdout",
     "output_type": "stream",
     "text": [
      "+------+-----------------+\n",
      "|userId|tot_artist_played|\n",
      "+------+-----------------+\n",
      "|100010|              252|\n",
      "|200002|              339|\n",
      "|   125|                8|\n",
      "|   124|             2232|\n",
      "|    51|             1385|\n",
      "|     7|              142|\n",
      "|    15|             1302|\n",
      "|    54|             1744|\n",
      "|   155|              643|\n",
      "|100014|              233|\n",
      "|   132|             1299|\n",
      "|   154|               78|\n",
      "|   101|             1241|\n",
      "|    11|              534|\n",
      "|   138|             1332|\n",
      "|300017|             2070|\n",
      "|    29|             1804|\n",
      "|    69|              865|\n",
      "|100021|              207|\n",
      "|    42|             2073|\n",
      "+------+-----------------+\n",
      "only showing top 20 rows\n",
      "\n"
     ]
    }
   ],
   "source": [
    "# Feature 9 : Total number of artists the user has listened to\n",
    "feat_9 = df_spark.filter(df_spark.page == \"NextSong\").select(\"userId\", \"artist\").dropDuplicates().groupby(\"userId\").count()\\\n",
    "         .withColumnRenamed(\"count\", \"tot_artist_played\")\n",
    "feat_9.show()"
   ]
  },
  {
   "cell_type": "code",
   "execution_count": 54,
   "metadata": {},
   "outputs": [
    {
     "name": "stdout",
     "output_type": "stream",
     "text": [
      "+------+------+\n",
      "|userId|target|\n",
      "+------+------+\n",
      "|100010|     0|\n",
      "|200002|     0|\n",
      "|   125|     1|\n",
      "|   124|     0|\n",
      "|    51|     1|\n",
      "|     7|     0|\n",
      "|    15|     0|\n",
      "|    54|     1|\n",
      "|   155|     0|\n",
      "|100014|     1|\n",
      "|   132|     0|\n",
      "|   154|     0|\n",
      "|   101|     1|\n",
      "|    11|     0|\n",
      "|   138|     0|\n",
      "|300017|     0|\n",
      "|100021|     1|\n",
      "|    29|     1|\n",
      "|    69|     0|\n",
      "|   112|     0|\n",
      "+------+------+\n",
      "only showing top 20 rows\n",
      "\n"
     ]
    }
   ],
   "source": [
    "# setting the churn label for our model\n",
    "target = df_spark.select('userId', col('user_churn').alias('target')).dropDuplicates()\n",
    "target.show()\n"
   ]
  },
  {
   "cell_type": "code",
   "execution_count": 55,
   "metadata": {},
   "outputs": [
    {
     "name": "stdout",
     "output_type": "stream",
     "text": [
      "+---------+-------------+---------------+------------------+-----------+------+------------------+-----------------+------+\n",
      "|tot_songs|tot_thumbs_up|tot_thumbs_down|      tot_lifetime|tot_friends|gender|  avg_played_songs|tot_artist_played|target|\n",
      "+---------+-------------+---------------+------------------+-----------+------+------------------+-----------------+------+\n",
      "|      381|           17|              5|  55.6436574074074|          4|     0|39.285714285714285|              252|     0|\n",
      "|      474|           21|              6| 70.07462962962963|          4|     1|              64.5|              339|     0|\n",
      "|     4825|          171|             41|131.55591435185184|         74|     0|145.67857142857142|             2232|     0|\n",
      "|     2464|          100|             21|19.455844907407407|         28|     1|             211.1|             1385|     1|\n",
      "|      201|            7|              1| 72.77818287037037|          1|     1|21.428571428571427|              142|     0|\n",
      "|     2278|           81|             14|56.513576388888886|         31|     1|136.71428571428572|             1302|     0|\n",
      "|     3437|          163|             29|110.75168981481481|         33|     0| 81.17142857142858|             1744|     1|\n",
      "|     1002|           58|              3|23.556018518518517|         11|     0|136.66666666666666|              643|     0|\n",
      "|      310|           17|              3| 85.08340277777778|          6|     1|42.833333333333336|              233|     1|\n",
      "|     2304|           96|             17|  66.8891087962963|         41|     0|             120.5|             1299|     0|\n",
      "|     2149|           86|             16|53.965937499999995|         29|     1|             179.7|             1241|     1|\n",
      "|      848|           40|              9|124.47825231481481|          6|     0|           40.4375|              534|     0|\n",
      "|     2469|           95|             24| 66.62668981481481|         41|     1|             138.0|             1332|     0|\n",
      "|     4428|          303|             28| 74.35851851851852|         63|     0|59.540983606557376|             2070|     0|\n",
      "|      319|           11|              5| 64.73886574074074|          7|     1|              46.0|              207|     1|\n",
      "|     3603|          154|             22|60.104050925925925|         47|     1| 89.05882352941177|             1804|     1|\n",
      "|     1342|           72|              9| 71.42444444444445|         12|     0|             125.0|              865|     0|\n",
      "|      292|            9|              3| 87.46262731481481|          7|     1| 23.88888888888889|              195|     0|\n",
      "|     4257|          166|             25| 67.11364583333334|         52|     0| 87.14634146341463|             2073|     0|\n",
      "|      457|           14|              7| 49.76208333333333|         11|     0|62.833333333333336|              334|     1|\n",
      "+---------+-------------+---------------+------------------+-----------+------+------------------+-----------------+------+\n",
      "only showing top 20 rows\n",
      "\n"
     ]
    }
   ],
   "source": [
    "# Combining all features with the target churn label\n",
    "\n",
    "final_data = feat_1.join(feat_2, 'userId', 'inner').join(feat_3, 'userId', 'inner').join(feat_4, 'userId', 'inner')\\\n",
    "             .join(feat_6, 'userId', 'inner').join(feat_7, 'userId', 'inner')\\\n",
    "             .join(feat_8, 'userId', 'inner').join(feat_9, 'userId', 'inner').join(target, 'userId', 'inner').drop('userId')\n",
    "\n",
    "final_data.show()"
   ]
  },
  {
   "cell_type": "code",
   "execution_count": 56,
   "metadata": {},
   "outputs": [],
   "source": [
    "fin_pd = final_data.toPandas()"
   ]
  },
  {
   "cell_type": "code",
   "execution_count": 57,
   "metadata": {},
   "outputs": [
    {
     "data": {
      "text/plain": [
       "tot_songs            0\n",
       "tot_thumbs_up        0\n",
       "tot_thumbs_down      0\n",
       "tot_lifetime         0\n",
       "tot_friends          0\n",
       "gender               0\n",
       "avg_played_songs     0\n",
       "tot_artist_played    0\n",
       "target               0\n",
       "dtype: int64"
      ]
     },
     "execution_count": 57,
     "metadata": {},
     "output_type": "execute_result"
    }
   ],
   "source": [
    "# checking for any null values\n",
    "fin_pd.isnull().sum()"
   ]
  },
  {
   "cell_type": "markdown",
   "metadata": {},
   "source": [
    "# Modeling\n",
    "Split the full dataset into train, test, and validation sets. Test out several of the machine learning methods you learned. Evaluate the accuracy of the various models, tuning parameters as necessary. Determine your winning model based on test accuracy and report results on the validation set. Since the churned users are a fairly small subset, I suggest using F1 score as the metric to optimize."
   ]
  },
  {
   "cell_type": "code",
   "execution_count": 58,
   "metadata": {},
   "outputs": [
    {
     "name": "stdout",
     "output_type": "stream",
     "text": [
      "+---------+-------------+---------------+------------------+-----------+------+------------------+-----------------+------+--------------------+\n",
      "|tot_songs|tot_thumbs_up|tot_thumbs_down|      tot_lifetime|tot_friends|gender|  avg_played_songs|tot_artist_played|target|        VectFeatures|\n",
      "+---------+-------------+---------------+------------------+-----------+------+------------------+-----------------+------+--------------------+\n",
      "|      381|           17|              5|  55.6436574074074|          4|     0|39.285714285714285|              252|     0|[381.0,17.0,5.0,5...|\n",
      "|      474|           21|              6| 70.07462962962963|          4|     1|              64.5|              339|     0|[474.0,21.0,6.0,7...|\n",
      "|     4825|          171|             41|131.55591435185184|         74|     0|145.67857142857142|             2232|     0|[4825.0,171.0,41....|\n",
      "|     2464|          100|             21|19.455844907407407|         28|     1|             211.1|             1385|     1|[2464.0,100.0,21....|\n",
      "|      201|            7|              1| 72.77818287037037|          1|     1|21.428571428571427|              142|     0|[201.0,7.0,1.0,72...|\n",
      "|     2278|           81|             14|56.513576388888886|         31|     1|136.71428571428572|             1302|     0|[2278.0,81.0,14.0...|\n",
      "|     3437|          163|             29|110.75168981481481|         33|     0| 81.17142857142858|             1744|     1|[3437.0,163.0,29....|\n",
      "|     1002|           58|              3|23.556018518518517|         11|     0|136.66666666666666|              643|     0|[1002.0,58.0,3.0,...|\n",
      "|      310|           17|              3| 85.08340277777778|          6|     1|42.833333333333336|              233|     1|[310.0,17.0,3.0,8...|\n",
      "|     2304|           96|             17|  66.8891087962963|         41|     0|             120.5|             1299|     0|[2304.0,96.0,17.0...|\n",
      "|     2149|           86|             16|53.965937499999995|         29|     1|             179.7|             1241|     1|[2149.0,86.0,16.0...|\n",
      "|      848|           40|              9|124.47825231481481|          6|     0|           40.4375|              534|     0|[848.0,40.0,9.0,1...|\n",
      "|     2469|           95|             24| 66.62668981481481|         41|     1|             138.0|             1332|     0|[2469.0,95.0,24.0...|\n",
      "|     4428|          303|             28| 74.35851851851852|         63|     0|59.540983606557376|             2070|     0|[4428.0,303.0,28....|\n",
      "|      319|           11|              5| 64.73886574074074|          7|     1|              46.0|              207|     1|[319.0,11.0,5.0,6...|\n",
      "|     3603|          154|             22|60.104050925925925|         47|     1| 89.05882352941177|             1804|     1|[3603.0,154.0,22....|\n",
      "|     1342|           72|              9| 71.42444444444445|         12|     0|             125.0|              865|     0|[1342.0,72.0,9.0,...|\n",
      "|      292|            9|              3| 87.46262731481481|          7|     1| 23.88888888888889|              195|     0|[292.0,9.0,3.0,87...|\n",
      "|     4257|          166|             25| 67.11364583333334|         52|     0| 87.14634146341463|             2073|     0|[4257.0,166.0,25....|\n",
      "|      457|           14|              7| 49.76208333333333|         11|     0|62.833333333333336|              334|     1|[457.0,14.0,7.0,4...|\n",
      "+---------+-------------+---------------+------------------+-----------+------+------------------+-----------------+------+--------------------+\n",
      "only showing top 20 rows\n",
      "\n"
     ]
    }
   ],
   "source": [
    "ipcols = ['tot_songs', 'tot_thumbs_up', 'tot_thumbs_down', 'tot_lifetime', 'tot_friends', 'gender', 'avg_played_songs', 'tot_artist_played']\n",
    "assmblr = VectorAssembler(inputCols = ipcols, outputCol = \"VectFeatures\")\n",
    "final_data = assmblr.transform(final_data)\n",
    "final_data.show()\n"
   ]
  },
  {
   "cell_type": "code",
   "execution_count": null,
   "metadata": {},
   "outputs": [],
   "source": []
  },
  {
   "cell_type": "code",
   "execution_count": null,
   "metadata": {},
   "outputs": [],
   "source": []
  },
  {
   "cell_type": "code",
   "execution_count": 59,
   "metadata": {},
   "outputs": [],
   "source": [
    "scaler = StandardScaler(inputCol = 'VectFeatures', outputCol = \"newFeatures\", withStd = True)\n",
    "scaler_model = scaler.fit(final_data)\n",
    "final_data = scaler_model.transform(final_data)"
   ]
  },
  {
   "cell_type": "code",
   "execution_count": 60,
   "metadata": {},
   "outputs": [],
   "source": [
    "data = final_data.select(final_data.target.alias(\"label\"), final_data.newFeatures.alias(\"features\"))"
   ]
  },
  {
   "cell_type": "code",
   "execution_count": 61,
   "metadata": {},
   "outputs": [],
   "source": [
    "#spark machine learning library \n",
    "\n",
    "    #test and train sets 80% training 20% test \n",
    "#train, val = data.randomSplit([0.85, 0.15], seed = 30)\n",
    "train, test, val = data.randomSplit([0.60,0.20, 0.20], seed = 30)\n",
    "train = train.cache()\n",
    "    #normalize \n",
    "    #logistic regression \n",
    "    #accuracy \n",
    "    #random forest  \n",
    "    #acurracy \n",
    "    #gbm\n",
    "    #accuracy "
   ]
  },
  {
   "cell_type": "code",
   "execution_count": null,
   "metadata": {},
   "outputs": [],
   "source": []
  },
  {
   "cell_type": "code",
   "execution_count": 62,
   "metadata": {},
   "outputs": [
    {
     "name": "stdout",
     "output_type": "stream",
     "text": [
      "+-----+--------------------+\n",
      "|label|            features|\n",
      "+-----+--------------------+\n",
      "|    0|[0.28303716272110...|\n",
      "|    0|[0.14931881812845...|\n",
      "|    1|[1.83045556153494...|\n",
      "|    0|[1.69227993878920...|\n",
      "|    1|[2.55327750202744...|\n",
      "|    0|[0.74436545156575...|\n",
      "|    0|[1.71159481078592...|\n",
      "|    1|[0.23029270457623...|\n",
      "|    1|[2.67659553092955...|\n",
      "|    0|[3.16243884961618...|\n",
      "|    1|[0.33949601932689...|\n",
      "|    1|[0.74510833125793...|\n",
      "|    1|[0.18869144181407...|\n",
      "|    0|[1.31861145362196...|\n",
      "|    0|[1.40775701668373...|\n",
      "|    0|[0.33949601932689...|\n",
      "|    0|[1.51993185020312...|\n",
      "|    1|[1.32306873177505...|\n",
      "|    0|[3.24638425483267...|\n",
      "|    0|[1.48947378282368...|\n",
      "+-----+--------------------+\n",
      "only showing top 20 rows\n",
      "\n"
     ]
    }
   ],
   "source": [
    "train.show()"
   ]
  },
  {
   "cell_type": "code",
   "execution_count": 63,
   "metadata": {},
   "outputs": [
    {
     "name": "stdout",
     "output_type": "stream",
     "text": [
      "+-----+--------------------+\n",
      "|label|            features|\n",
      "+-----+--------------------+\n",
      "|    0|[3.58439451477521...|\n",
      "|    0|[0.62996197896981...|\n",
      "|    1|[1.59644845849780...|\n",
      "|    0|[1.83416995999585...|\n",
      "|    1|[0.23697862180586...|\n",
      "|    0|[0.64779109158217...|\n",
      "|    0|[0.24812181718858...|\n",
      "|    0|[0.58390343805457...|\n",
      "|    0|[1.01254502044323...|\n",
      "|    0|[0.24440741872767...|\n",
      "|    0|[0.69830691065050...|\n",
      "|    0|[0.17457672766262...|\n",
      "|    0|[0.28155140333674...|\n",
      "|    0|[1.45678707636770...|\n",
      "|    1|[0.16046201351118...|\n",
      "|    0|[0.21617799042478...|\n",
      "|    0|[0.19463447935152...|\n",
      "|    0|[0.59504663343729...|\n",
      "|    0|[4.25818639558373...|\n",
      "|    0|[0.92488521676583...|\n",
      "+-----+--------------------+\n",
      "only showing top 20 rows\n",
      "\n"
     ]
    }
   ],
   "source": [
    "val.show()"
   ]
  },
  {
   "cell_type": "code",
   "execution_count": 65,
   "metadata": {},
   "outputs": [
    {
     "name": "stdout",
     "output_type": "stream",
     "text": [
      "Coefficients: (8,[],[])\n",
      "Intercept: -1.1100409844917325\n"
     ]
    }
   ],
   "source": [
    "from pyspark.ml.classification import LogisticRegression\n",
    "\n",
    "lr = LogisticRegression(maxIter=10, regParam=0.3, elasticNetParam=0.8)\n",
    "\n",
    "# Fit the model\n",
    "lrModel = lr.fit(train)\n",
    "\n",
    "# Print the coefficients and intercept for logistic regression\n",
    "print(\"Coefficients: \" + str(lrModel.coefficients))\n",
    "print(\"Intercept: \" + str(lrModel.intercept))"
   ]
  },
  {
   "cell_type": "code",
   "execution_count": 66,
   "metadata": {},
   "outputs": [
    {
     "name": "stdout",
     "output_type": "stream",
     "text": [
      "+-----+--------------------+--------------------+--------------------+----------+\n",
      "|label|            features|       rawPrediction|         probability|prediction|\n",
      "+-----+--------------------+--------------------+--------------------+----------+\n",
      "|    0|[3.58439451477521...|[1.11004098449173...|[0.75213675213675...|       0.0|\n",
      "|    0|[0.62996197896981...|[1.11004098449173...|[0.75213675213675...|       0.0|\n",
      "|    1|[1.59644845849780...|[1.11004098449173...|[0.75213675213675...|       0.0|\n",
      "|    0|[1.83416995999585...|[1.11004098449173...|[0.75213675213675...|       0.0|\n",
      "|    1|[0.23697862180586...|[1.11004098449173...|[0.75213675213675...|       0.0|\n",
      "|    0|[0.64779109158217...|[1.11004098449173...|[0.75213675213675...|       0.0|\n",
      "|    0|[0.24812181718858...|[1.11004098449173...|[0.75213675213675...|       0.0|\n",
      "|    0|[0.58390343805457...|[1.11004098449173...|[0.75213675213675...|       0.0|\n",
      "|    0|[1.01254502044323...|[1.11004098449173...|[0.75213675213675...|       0.0|\n",
      "|    0|[0.24440741872767...|[1.11004098449173...|[0.75213675213675...|       0.0|\n",
      "|    0|[0.69830691065050...|[1.11004098449173...|[0.75213675213675...|       0.0|\n",
      "|    0|[0.17457672766262...|[1.11004098449173...|[0.75213675213675...|       0.0|\n",
      "|    0|[0.28155140333674...|[1.11004098449173...|[0.75213675213675...|       0.0|\n",
      "|    0|[1.45678707636770...|[1.11004098449173...|[0.75213675213675...|       0.0|\n",
      "|    1|[0.16046201351118...|[1.11004098449173...|[0.75213675213675...|       0.0|\n",
      "|    0|[0.21617799042478...|[1.11004098449173...|[0.75213675213675...|       0.0|\n",
      "|    0|[0.19463447935152...|[1.11004098449173...|[0.75213675213675...|       0.0|\n",
      "|    0|[0.59504663343729...|[1.11004098449173...|[0.75213675213675...|       0.0|\n",
      "|    0|[4.25818639558373...|[1.11004098449173...|[0.75213675213675...|       0.0|\n",
      "|    0|[0.92488521676583...|[1.11004098449173...|[0.75213675213675...|       0.0|\n",
      "+-----+--------------------+--------------------+--------------------+----------+\n",
      "only showing top 20 rows\n",
      "\n"
     ]
    }
   ],
   "source": [
    "lg_pred = lrModel.transform(val)\n",
    "lg_pred.show()"
   ]
  },
  {
   "cell_type": "code",
   "execution_count": 67,
   "metadata": {},
   "outputs": [
    {
     "name": "stdout",
     "output_type": "stream",
     "text": [
      "The metrics for our Logistic Regerssion Classifier are as follows :\n",
      "The F-1 Score is 0.6688963210702342\n",
      "The accuracy is 0.7692307692307693\n"
     ]
    }
   ],
   "source": [
    "evaluator = MulticlassClassificationEvaluator(predictionCol = \"prediction\")\n",
    "print(\"The metrics for our Logistic Regerssion Classifier are as follows :\")\n",
    "print(\"The F-1 Score is {}\".format(evaluator.evaluate(lg_pred, {evaluator.metricName : \"f1\"})))\n",
    "print(\"The accuracy is {}\".format(evaluator.evaluate(lg_pred, {evaluator.metricName : \"accuracy\"})))"
   ]
  },
  {
   "cell_type": "code",
   "execution_count": 68,
   "metadata": {},
   "outputs": [
    {
     "name": "stdout",
     "output_type": "stream",
     "text": [
      "Classification report of Logistic Regression\n",
      "              precision    recall  f1-score   support\n",
      "\n",
      "           0       0.77      1.00      0.87        30\n",
      "           1       0.00      0.00      0.00         9\n",
      "\n",
      "    accuracy                           0.77        39\n",
      "   macro avg       0.38      0.50      0.43        39\n",
      "weighted avg       0.59      0.77      0.67        39\n",
      "\n",
      "\n",
      "\n",
      "\n",
      "Confuision matrix of Logistic Regression\n",
      "[[30  0]\n",
      " [ 9  0]]\n"
     ]
    },
    {
     "name": "stderr",
     "output_type": "stream",
     "text": [
      "/home/rashmi/anaconda3/lib/python3.7/site-packages/sklearn/metrics/_classification.py:1221: UndefinedMetricWarning: Precision and F-score are ill-defined and being set to 0.0 in labels with no predicted samples. Use `zero_division` parameter to control this behavior.\n",
      "  _warn_prf(average, modifier, msg_start, len(result))\n"
     ]
    }
   ],
   "source": [
    "val_true_lr = lg_pred.select(['label']).collect()\n",
    "val_pred_lr = lg_pred.select(['prediction']).collect()\n",
    "print('Classification report of Logistic Regression')\n",
    "print(classification_report(val_true_lr, val_pred_lr))\n",
    "print('\\n\\n')\n",
    "print('Confuision matrix of Logistic Regression')\n",
    "print(confusion_matrix(val_true_lr, val_pred_lr))"
   ]
  },
  {
   "cell_type": "code",
   "execution_count": 69,
   "metadata": {},
   "outputs": [
    {
     "name": "stdout",
     "output_type": "stream",
     "text": [
      "Multinomial coefficients: 2 X 8 CSRMatrix\n",
      "\n",
      "Multinomial intercepts: [0.555020157196705,-0.555020157196705]\n"
     ]
    }
   ],
   "source": [
    "# We can also use the multinomial family for binary classification\n",
    "mlr = LogisticRegression(maxIter=10, regParam=0.3, elasticNetParam=0.8, family=\"multinomial\")\n",
    "\n",
    "# Fit the model\n",
    "mlrModel = mlr.fit(train)\n",
    "\n",
    "# Print the coefficients and intercepts for logistic regression with multinomial family\n",
    "print(\"Multinomial coefficients: \" + str(mlrModel.coefficientMatrix))\n",
    "print(\"Multinomial intercepts: \" + str(mlrModel.interceptVector))"
   ]
  },
  {
   "cell_type": "code",
   "execution_count": 72,
   "metadata": {},
   "outputs": [
    {
     "name": "stdout",
     "output_type": "stream",
     "text": [
      "+-----+--------------------+--------------------+--------------------+----------+\n",
      "|label|            features|       rawPrediction|         probability|prediction|\n",
      "+-----+--------------------+--------------------+--------------------+----------+\n",
      "|    0|[3.58439451477521...|[0.55502015719670...|[0.75213662721227...|       0.0|\n",
      "|    0|[0.62996197896981...|[0.55502015719670...|[0.75213662721227...|       0.0|\n",
      "|    1|[1.59644845849780...|[0.55502015719670...|[0.75213662721227...|       0.0|\n",
      "|    0|[1.83416995999585...|[0.55502015719670...|[0.75213662721227...|       0.0|\n",
      "|    1|[0.23697862180586...|[0.55502015719670...|[0.75213662721227...|       0.0|\n",
      "|    0|[0.64779109158217...|[0.55502015719670...|[0.75213662721227...|       0.0|\n",
      "|    0|[0.24812181718858...|[0.55502015719670...|[0.75213662721227...|       0.0|\n",
      "|    0|[0.58390343805457...|[0.55502015719670...|[0.75213662721227...|       0.0|\n",
      "|    0|[1.01254502044323...|[0.55502015719670...|[0.75213662721227...|       0.0|\n",
      "|    0|[0.24440741872767...|[0.55502015719670...|[0.75213662721227...|       0.0|\n",
      "|    0|[0.69830691065050...|[0.55502015719670...|[0.75213662721227...|       0.0|\n",
      "|    0|[0.17457672766262...|[0.55502015719670...|[0.75213662721227...|       0.0|\n",
      "|    0|[0.28155140333674...|[0.55502015719670...|[0.75213662721227...|       0.0|\n",
      "|    0|[1.45678707636770...|[0.55502015719670...|[0.75213662721227...|       0.0|\n",
      "|    1|[0.16046201351118...|[0.55502015719670...|[0.75213662721227...|       0.0|\n",
      "|    0|[0.21617799042478...|[0.55502015719670...|[0.75213662721227...|       0.0|\n",
      "|    0|[0.19463447935152...|[0.55502015719670...|[0.75213662721227...|       0.0|\n",
      "|    0|[0.59504663343729...|[0.55502015719670...|[0.75213662721227...|       0.0|\n",
      "|    0|[4.25818639558373...|[0.55502015719670...|[0.75213662721227...|       0.0|\n",
      "|    0|[0.92488521676583...|[0.55502015719670...|[0.75213662721227...|       0.0|\n",
      "+-----+--------------------+--------------------+--------------------+----------+\n",
      "only showing top 20 rows\n",
      "\n"
     ]
    }
   ],
   "source": [
    "mlg_pred = mlrModel.transform(val)\n",
    "mlg_pred.show()"
   ]
  },
  {
   "cell_type": "code",
   "execution_count": 73,
   "metadata": {},
   "outputs": [
    {
     "name": "stdout",
     "output_type": "stream",
     "text": [
      "The metrics for our Logistic Regerssion Classifier are as follows :\n",
      "The F-1 Score is 0.6688963210702342\n",
      "The accuracy is 0.7692307692307693\n"
     ]
    }
   ],
   "source": [
    "evaluator_mlg = MulticlassClassificationEvaluator(predictionCol = \"prediction\")\n",
    "print(\"The metrics for our Logistic Regerssion Classifier are as follows :\")\n",
    "print(\"The F-1 Score is {}\".format(evaluator_mlg.evaluate(mlg_pred, {evaluator_mlg.metricName : \"f1\"})))\n",
    "print(\"The accuracy is {}\".format(evaluator_mlg.evaluate(mlg_pred, {evaluator_mlg.metricName : \"accuracy\"})))"
   ]
  },
  {
   "cell_type": "code",
   "execution_count": 74,
   "metadata": {},
   "outputs": [
    {
     "name": "stdout",
     "output_type": "stream",
     "text": [
      "Classification report of Logistic Regression\n",
      "              precision    recall  f1-score   support\n",
      "\n",
      "           0       0.77      1.00      0.87        30\n",
      "           1       0.00      0.00      0.00         9\n",
      "\n",
      "    accuracy                           0.77        39\n",
      "   macro avg       0.38      0.50      0.43        39\n",
      "weighted avg       0.59      0.77      0.67        39\n",
      "\n",
      "\n",
      "\n",
      "\n",
      "Confuision matrix of Logistic Regression\n",
      "[[30  0]\n",
      " [ 9  0]]\n"
     ]
    }
   ],
   "source": [
    "val_true_mlr = mlg_pred.select(['label']).collect()\n",
    "val_pred_mlr = mlg_pred.select(['prediction']).collect()\n",
    "print('Classification report of Logistic Regression')\n",
    "print(classification_report(val_true_mlr, val_pred_mlr))\n",
    "print('\\n\\n')\n",
    "print('Confuision matrix of Logistic Regression')\n",
    "print(confusion_matrix(val_true_mlr, val_pred_mlr))"
   ]
  },
  {
   "cell_type": "markdown",
   "metadata": {},
   "source": [
    "Random Forest Classifier\n",
    "=="
   ]
  },
  {
   "cell_type": "code",
   "execution_count": 75,
   "metadata": {},
   "outputs": [],
   "source": [
    "from pyspark.ml import Pipeline\n",
    "from pyspark.ml.classification import RandomForestClassifier\n",
    "from pyspark.ml.feature import IndexToString, StringIndexer, VectorIndexer\n",
    "from pyspark.ml.evaluation import MulticlassClassificationEvaluator"
   ]
  },
  {
   "cell_type": "markdown",
   "metadata": {},
   "source": [
    "Random forest without pipline\n",
    "=="
   ]
  },
  {
   "cell_type": "code",
   "execution_count": 76,
   "metadata": {},
   "outputs": [],
   "source": [
    "rf_clf_no_pipeline = RandomForestClassifier()\n",
    "\n",
    "# Fit the model\n",
    "rf_clf_model_no_pipeline = rf_clf_no_pipeline.fit(train)"
   ]
  },
  {
   "cell_type": "code",
   "execution_count": 77,
   "metadata": {},
   "outputs": [
    {
     "name": "stdout",
     "output_type": "stream",
     "text": [
      "+-----+--------------------+--------------------+--------------------+----------+\n",
      "|label|            features|       rawPrediction|         probability|prediction|\n",
      "+-----+--------------------+--------------------+--------------------+----------+\n",
      "|    0|[3.58439451477521...|[19.7495920745920...|[0.98747960372960...|       0.0|\n",
      "|    0|[0.62996197896981...|[12.8989583704400...|[0.64494791852200...|       0.0|\n",
      "|    1|[1.59644845849780...|[14.7448912198912...|[0.73724456099456...|       0.0|\n",
      "|    0|[1.83416995999585...|[19.8397317452195...|[0.99198658726097...|       0.0|\n",
      "|    1|[0.23697862180586...|[16.6967528086890...|[0.83483764043445...|       0.0|\n",
      "|    0|[0.64779109158217...|[14.0597993811396...|[0.70298996905698...|       0.0|\n",
      "|    0|[0.24812181718858...|[14.3103944874311...|[0.71551972437155...|       0.0|\n",
      "|    0|[0.58390343805457...|[15.2292433632250...|[0.76146216816125...|       0.0|\n",
      "|    0|[1.01254502044323...|[18.3742830457647...|[0.91871415228823...|       0.0|\n",
      "|    0|[0.24440741872767...|[16.7376588896955...|[0.83688294448477...|       0.0|\n",
      "|    0|[0.69830691065050...|[13.0597993811396...|[0.65298996905698...|       0.0|\n",
      "|    0|[0.17457672766262...|[17.6058437177799...|[0.88029218588899...|       0.0|\n",
      "|    0|[0.28155140333674...|[14.9123880506400...|[0.74561940253200...|       0.0|\n",
      "|    0|[1.45678707636770...|[15.0449714675124...|[0.75224857337562...|       0.0|\n",
      "|    1|[0.16046201351118...|[12.2234189629556...|[0.61117094814778...|       0.0|\n",
      "|    0|[0.21617799042478...|[15.4070196759680...|[0.77035098379840...|       0.0|\n",
      "|    0|[0.19463447935152...|[13.2763035783402...|[0.66381517891701...|       0.0|\n",
      "|    0|[0.59504663343729...|[15.0597993811396...|[0.75298996905698...|       0.0|\n",
      "|    0|[4.25818639558373...|[17.8037587412587...|[0.89018793706293...|       0.0|\n",
      "|    0|[0.92488521676583...|[8.88162431560597...|[0.44408121578029...|       1.0|\n",
      "+-----+--------------------+--------------------+--------------------+----------+\n",
      "only showing top 20 rows\n",
      "\n"
     ]
    }
   ],
   "source": [
    "rf_np_val_pred = rf_clf_model_no_pipeline.transform(val)\n",
    "rf_np_val_pred.show()"
   ]
  },
  {
   "cell_type": "code",
   "execution_count": 78,
   "metadata": {},
   "outputs": [
    {
     "data": {
      "text/plain": [
       "SparseVector(8, {0: 0.1277, 1: 0.1182, 2: 0.1175, 3: 0.3028, 4: 0.1059, 5: 0.004, 6: 0.1137, 7: 0.1102})"
      ]
     },
     "execution_count": 78,
     "metadata": {},
     "output_type": "execute_result"
    }
   ],
   "source": [
    "rf_clf_model_no_pipeline.featureImportances"
   ]
  },
  {
   "cell_type": "markdown",
   "metadata": {},
   "source": [
    "['tot_songs': .1277\n",
    ", 'tot_thumbs_up': .1182\n",
    ", 'tot_thumbs_down': .1175\n",
    ", 'tot_lifetime': .3028\n",
    ", 'tot_friends': .1059\n",
    ", 'gender': .004\n",
    ", 'avg_played_songs': .1137\n",
    ", 'tot_artist_played': .1102\n",
    "]"
   ]
  },
  {
   "cell_type": "markdown",
   "metadata": {},
   "source": [
    "Random forest with pipline\n",
    "=="
   ]
  },
  {
   "cell_type": "code",
   "execution_count": 79,
   "metadata": {},
   "outputs": [],
   "source": [
    "\n",
    "# Index labels, adding metadata to the label column.\n",
    "# Fit on whole dataset to include all labels in index.\n",
    "labelIndexer = StringIndexer(inputCol=\"label\", outputCol=\"indexedLabel\").fit(data)\n",
    "\n",
    "# Automatically identify categorical features, and index them.\n",
    "# Set maxCategories so features with > 4 distinct values are treated as continuous.\n",
    "featureIndexer =\\\n",
    "    VectorIndexer(inputCol=\"features\", outputCol=\"indexedFeatures\", maxCategories=4).fit(data)\n",
    "\n",
    "# Train a RandomForest model.\n",
    "rf = RandomForestClassifier(labelCol=\"indexedLabel\", featuresCol=\"indexedFeatures\", numTrees=10)\n",
    "\n",
    "# Convert indexed labels back to original labels.\n",
    "labelConverter = IndexToString(inputCol=\"prediction\", outputCol=\"predictedLabel\",\n",
    "                               labels=labelIndexer.labels)\n",
    "\n",
    "# Chain indexers and forest in a Pipeline\n",
    "pipeline = Pipeline(stages=[labelIndexer, featureIndexer, rf, labelConverter])\n",
    "\n",
    "# Train model.  This also runs the indexers.\n",
    "model_rf = pipeline.fit(train)"
   ]
  },
  {
   "cell_type": "code",
   "execution_count": 80,
   "metadata": {},
   "outputs": [
    {
     "name": "stdout",
     "output_type": "stream",
     "text": [
      "+--------------+-----+--------------------+\n",
      "|predictedLabel|label|            features|\n",
      "+--------------+-----+--------------------+\n",
      "|             0|    0|[3.58439451477521...|\n",
      "|             0|    0|[0.62996197896981...|\n",
      "|             0|    1|[1.59644845849780...|\n",
      "|             0|    0|[1.83416995999585...|\n",
      "|             0|    1|[0.23697862180586...|\n",
      "+--------------+-----+--------------------+\n",
      "only showing top 5 rows\n",
      "\n",
      "Test Error = 0.230769\n",
      "RandomForestClassificationModel: uid=RandomForestClassifier_1a36d068cae8, numTrees=10, numClasses=2, numFeatures=8\n"
     ]
    }
   ],
   "source": [
    "# Make predictions.\n",
    "rf_pred  = model_rf.transform(val)\n",
    "\n",
    "# Select example rows to display.\n",
    "rf_pred.select(\"predictedLabel\", \"label\", \"features\").show(5)\n",
    "\n",
    "# Select (prediction, true label) and compute test error\n",
    "evaluator = MulticlassClassificationEvaluator(\n",
    "    labelCol=\"indexedLabel\", predictionCol=\"prediction\", metricName=\"accuracy\")\n",
    "accuracy = evaluator.evaluate(rf_pred)\n",
    "print(\"Test Error = %g\" % (1.0 - accuracy))\n",
    "\n",
    "rfModel = model_rf.stages[2]\n",
    "print(rfModel)  # summary only"
   ]
  },
  {
   "cell_type": "code",
   "execution_count": 81,
   "metadata": {},
   "outputs": [
    {
     "name": "stdout",
     "output_type": "stream",
     "text": [
      "The metrics for our random forest classifier are as follows :\n",
      "The F-1 Score is 0.7337278106508877\n",
      "The accuracy is 0.7692307692307693\n"
     ]
    }
   ],
   "source": [
    "evaluator_rf = MulticlassClassificationEvaluator(predictionCol = \"prediction\")\n",
    "print(\"The metrics for our random forest classifier are as follows :\")\n",
    "print(\"The F-1 Score is {}\".format(evaluator_rf.evaluate(rf_pred, {evaluator_rf.metricName : \"f1\"})))\n",
    "print(\"The accuracy is {}\".format(evaluator_rf.evaluate(rf_pred, {evaluator_rf.metricName : \"accuracy\"})))"
   ]
  },
  {
   "cell_type": "code",
   "execution_count": 84,
   "metadata": {},
   "outputs": [
    {
     "name": "stdout",
     "output_type": "stream",
     "text": [
      "Classification report of Random Forest\n",
      "              precision    recall  f1-score   support\n",
      "\n",
      "           0       0.80      0.93      0.86        30\n",
      "           1       0.50      0.22      0.31         9\n",
      "\n",
      "    accuracy                           0.77        39\n",
      "   macro avg       0.65      0.58      0.58        39\n",
      "weighted avg       0.73      0.77      0.73        39\n",
      "\n",
      "\n",
      "\n",
      "\n",
      "Confuision matrix of Random Forest\n",
      "[[28  2]\n",
      " [ 7  2]]\n"
     ]
    }
   ],
   "source": [
    "val_true_rf = rf_pred.select(['label']).collect()\n",
    "val_pred_rf = rf_pred.select(['prediction']).collect()\n",
    "print('Classification report of Random Forest')\n",
    "print(classification_report(val_true_rf, val_pred_rf))\n",
    "print('\\n\\n')\n",
    "print('Confuision matrix of Random Forest')\n",
    "print(confusion_matrix(val_true_rf, val_pred_rf))"
   ]
  },
  {
   "cell_type": "code",
   "execution_count": 83,
   "metadata": {},
   "outputs": [],
   "source": [
    "from pyspark.ml import Pipeline\n",
    "from pyspark.ml.classification import GBTClassifier\n",
    "from pyspark.ml.feature import StringIndexer, VectorIndexer\n",
    "from pyspark.ml.evaluation import MulticlassClassificationEvaluator\n",
    "\n",
    "\n",
    "# Index labels, adding metadata to the label column.\n",
    "# Fit on whole dataset to include all labels in index.\n",
    "labelIndexer = StringIndexer(inputCol=\"label\", outputCol=\"indexedLabel\").fit(data)\n",
    "# Automatically identify categorical features, and index them.\n",
    "# Set maxCategories so features with > 4 distinct values are treated as continuous.\n",
    "featureIndexer =\\\n",
    "    VectorIndexer(inputCol=\"features\", outputCol=\"indexedFeatures\", maxCategories=4).fit(data)\n",
    "\n",
    "# Train a GBT model.\n",
    "gbt = GBTClassifier(labelCol=\"indexedLabel\", featuresCol=\"indexedFeatures\", maxIter=10)\n",
    "\n",
    "# Chain indexers and GBT in a Pipeline\n",
    "pipeline = Pipeline(stages=[labelIndexer, featureIndexer, gbt])\n",
    "\n",
    "# Train model.  This also runs the indexers.\n",
    "gbt_model = pipeline.fit(train)"
   ]
  },
  {
   "cell_type": "code",
   "execution_count": 87,
   "metadata": {},
   "outputs": [
    {
     "name": "stdout",
     "output_type": "stream",
     "text": [
      "+----------+------------+--------------------+\n",
      "|prediction|indexedLabel|            features|\n",
      "+----------+------------+--------------------+\n",
      "|       0.0|         0.0|[3.58439451477521...|\n",
      "|       0.0|         0.0|[0.62996197896981...|\n",
      "|       0.0|         1.0|[1.59644845849780...|\n",
      "|       0.0|         0.0|[1.83416995999585...|\n",
      "|       0.0|         1.0|[0.23697862180586...|\n",
      "+----------+------------+--------------------+\n",
      "only showing top 5 rows\n",
      "\n",
      "Test Error = 0.282051\n",
      "GBTClassificationModel: uid = GBTClassifier_90e1e3ee8659, numTrees=10, numClasses=2, numFeatures=8\n"
     ]
    }
   ],
   "source": [
    "# Make predictions.\n",
    "pred_gbt = gbt_model.transform(val)\n",
    "\n",
    "# Select example rows to display.\n",
    "pred_gbt.select(\"prediction\", \"indexedLabel\", \"features\").show(5)\n",
    "\n",
    "# Select (prediction, true label) and compute test error\n",
    "evaluator_gbt = MulticlassClassificationEvaluator(\n",
    "    labelCol=\"indexedLabel\", predictionCol=\"prediction\", metricName=\"accuracy\")\n",
    "accuracy = evaluator_gbt.evaluate(pred_gbt)\n",
    "print(\"Test Error = %g\" % (1.0 - accuracy))\n",
    "\n",
    "gbtModel = gbt_model.stages[2]\n",
    "print(gbtModel)  # summary only"
   ]
  },
  {
   "cell_type": "code",
   "execution_count": 93,
   "metadata": {},
   "outputs": [
    {
     "name": "stdout",
     "output_type": "stream",
     "text": [
      "The metrics for our GBT Classifier are as follows :\n",
      "The F-1 Score is 0.6964590964590964\n",
      "The accuracy is 0.717948717948718\n"
     ]
    }
   ],
   "source": [
    "evaluator_gbt = MulticlassClassificationEvaluator(predictionCol = \"prediction\")\n",
    "print(\"The metrics for our GBT Classifier are as follows :\")\n",
    "print(\"The F-1 Score is {}\".format(evaluator_gbt.evaluate(pred_gbt, {evaluator_gbt.metricName : \"f1\"})))\n",
    "print(\"The accuracy is {}\".format(evaluator_gbt.evaluate(pred_gbt, {evaluator_gbt.metricName : \"accuracy\"})))"
   ]
  },
  {
   "cell_type": "code",
   "execution_count": 106,
   "metadata": {},
   "outputs": [
    {
     "name": "stdout",
     "output_type": "stream",
     "text": [
      "Classification report of Random Forest\n",
      "              precision    recall  f1-score   support\n",
      "\n",
      "           0       0.79      0.87      0.83        30\n",
      "           1       0.33      0.22      0.27         9\n",
      "\n",
      "    accuracy                           0.72        39\n",
      "   macro avg       0.56      0.54      0.55        39\n",
      "weighted avg       0.68      0.72      0.70        39\n",
      "\n",
      "\n",
      "\n",
      "\n",
      "Confuision matrix of Random Forest\n",
      "[[26  4]\n",
      " [ 7  2]]\n"
     ]
    }
   ],
   "source": [
    "val_true_gbt = pred_gbt.select(['label']).collect()\n",
    "val_pred_gbt = pred_gbt.select(['prediction']).collect()\n",
    "print('Classification report of Gradient Bossting')\n",
    "print(classification_report(val_true_gbt, val_pred_gbt))\n",
    "print('\\n\\n')\n",
    "print('Confuision matrix of Gradient Bossting')\n",
    "print(confusion_matrix(val_true_gbt, val_pred_gbt))"
   ]
  },
  {
   "cell_type": "code",
   "execution_count": 94,
   "metadata": {},
   "outputs": [],
   "source": [
    "from pyspark.ml import Pipeline\n",
    "from pyspark.ml.classification import DecisionTreeClassifier\n",
    "from pyspark.ml.feature import StringIndexer, VectorIndexer\n",
    "from pyspark.ml.evaluation import MulticlassClassificationEvaluator\n",
    "\n",
    "\n",
    "# Index labels, adding metadata to the label column.\n",
    "# Fit on whole dataset to include all labels in index.\n",
    "labelIndexer = StringIndexer(inputCol=\"label\", outputCol=\"indexedLabel\").fit(train)\n",
    "# Automatically identify categorical features, and index them.\n",
    "# We specify maxCategories so features with > 4 distinct values are treated as continuous.\n",
    "featureIndexer =\\\n",
    "    VectorIndexer(inputCol=\"features\", outputCol=\"indexedFeatures\", maxCategories=4).fit(train)\n",
    "\n",
    "\n",
    "# Train a DecisionTree model.\n",
    "dt = DecisionTreeClassifier(labelCol=\"indexedLabel\", featuresCol=\"indexedFeatures\")\n",
    "\n",
    "# Chain indexers and tree in a Pipeline\n",
    "pipeline_dt = Pipeline(stages=[labelIndexer, featureIndexer, dt])\n",
    "\n",
    "# Train model.  This also runs the indexers.\n",
    "model_dt = pipeline_dt.fit(train)"
   ]
  },
  {
   "cell_type": "code",
   "execution_count": 95,
   "metadata": {},
   "outputs": [
    {
     "name": "stdout",
     "output_type": "stream",
     "text": [
      "+----------+------------+--------------------+\n",
      "|prediction|indexedLabel|            features|\n",
      "+----------+------------+--------------------+\n",
      "|       0.0|         0.0|[3.58439451477521...|\n",
      "|       0.0|         0.0|[0.62996197896981...|\n",
      "|       0.0|         1.0|[1.59644845849780...|\n",
      "|       0.0|         0.0|[1.83416995999585...|\n",
      "|       0.0|         1.0|[0.23697862180586...|\n",
      "+----------+------------+--------------------+\n",
      "only showing top 5 rows\n",
      "\n",
      "Test Error = 0.230769 \n",
      "DecisionTreeClassificationModel: uid=DecisionTreeClassifier_7339c65f93a2, depth=5, numNodes=29, numClasses=2, numFeatures=8\n"
     ]
    }
   ],
   "source": [
    "\n",
    "\n",
    "# Make predictions.\n",
    "pred_dt = model_dt.transform(val)\n",
    "\n",
    "# Select example rows to display.\n",
    "pred_dt.select(\"prediction\", \"indexedLabel\", \"features\").show(5)\n",
    "\n",
    "# Select (prediction, true label) and compute test error\n",
    "evaluator_dt = MulticlassClassificationEvaluator(\n",
    "    labelCol=\"indexedLabel\", predictionCol=\"prediction\", metricName=\"accuracy\")\n",
    "accuracy_dt = evaluator_dt.evaluate(pred_dt)\n",
    "print(\"Test Error = %g \" % (1.0 - accuracy_dt))\n",
    "\n",
    "treeModel_dt = model_dt.stages[2]\n",
    "# summary only\n",
    "print(treeModel_dt)"
   ]
  },
  {
   "cell_type": "code",
   "execution_count": 96,
   "metadata": {},
   "outputs": [
    {
     "name": "stdout",
     "output_type": "stream",
     "text": [
      "The metrics for our DecisionTreeClassifier Classifier are as follows :\n",
      "The F-1 Score is 0.7337278106508877\n",
      "The accuracy is 0.7692307692307693\n"
     ]
    }
   ],
   "source": [
    "#evaluator = MulticlassClassificationEvaluator(predictionCol = \"prediction\")\n",
    "print(\"The metrics for our DecisionTreeClassifier Classifier are as follows :\")\n",
    "print(\"The F-1 Score is {}\".format(evaluator_dt.evaluate(pred_dt, {evaluator_dt.metricName : \"f1\"})))\n",
    "print(\"The accuracy is {}\".format(evaluator_dt.evaluate(pred_dt, {evaluator_dt.metricName : \"accuracy\"})))"
   ]
  },
  {
   "cell_type": "code",
   "execution_count": null,
   "metadata": {},
   "outputs": [],
   "source": []
  },
  {
   "cell_type": "code",
   "execution_count": 107,
   "metadata": {},
   "outputs": [],
   "source": [
    "# Approach 2 : Random Forest Classifier\n",
    "rf_clf = RandomForestClassifier()\n",
    "f1_evaluation = MulticlassClassificationEvaluator(metricName = 'f1')\n",
    "param_grid = ParamGridBuilder().addGrid(rf_clf.impurity, ['gini', 'entropy']).build()\n",
    "cross_val_rf = CrossValidator(estimator = rf_clf, estimatorParamMaps = param_grid, evaluator = f1_evaluation, numFolds = 4)"
   ]
  },
  {
   "cell_type": "code",
   "execution_count": 108,
   "metadata": {},
   "outputs": [
    {
     "data": {
      "text/plain": [
       "[0.7253611419942065, 0.7375197071656843]"
      ]
     },
     "execution_count": 108,
     "metadata": {},
     "output_type": "execute_result"
    }
   ],
   "source": [
    "cv_model_rf = cross_val_rf.fit(train)\n",
    "cv_model_rf.avgMetrics"
   ]
  },
  {
   "cell_type": "code",
   "execution_count": 109,
   "metadata": {},
   "outputs": [],
   "source": [
    "res_rfg_val= cv_model_rf.transform(val)"
   ]
  },
  {
   "cell_type": "code",
   "execution_count": 110,
   "metadata": {},
   "outputs": [
    {
     "name": "stdout",
     "output_type": "stream",
     "text": [
      "The metrics for our Random Forest Classifier using GRid Search are as follows :\n",
      "The F-1 Score is 0.7719780219780219\n",
      "The accuracy is 0.7948717948717948\n"
     ]
    }
   ],
   "source": [
    "# Getting different evaluation metrics for Random Forest\n",
    "evaluator_rfg = MulticlassClassificationEvaluator(predictionCol = \"prediction\")\n",
    "print(\"The metrics for our Random Forest Classifier using GRid Search are as follows :\")\n",
    "print(\"The F-1 Score is {}\".format(evaluator_rfg.evaluate(res_rfg_val, {evaluator_rfg.metricName : \"f1\"})))\n",
    "print(\"The accuracy is {}\".format(evaluator_rfg.evaluate(res_rfg_val, {evaluator_rfg.metricName : \"accuracy\"})))"
   ]
  },
  {
   "cell_type": "markdown",
   "metadata": {},
   "source": [
    "# Final Steps\n",
    "Clean up your code, adding comments and renaming variables to make the code easier to read and maintain. Refer to the Spark Project Overview page and Data Scientist Capstone Project Rubric to make sure you are including all components of the capstone project and meet all expectations. Remember, this includes thorough documentation in a README file in a Github repository, as well as a web app or blog post."
   ]
  },
  {
   "cell_type": "code",
   "execution_count": null,
   "metadata": {},
   "outputs": [],
   "source": []
  }
 ],
 "metadata": {
  "kernelspec": {
   "display_name": "Python 3",
   "language": "python",
   "name": "python3"
  },
  "language_info": {
   "codemirror_mode": {
    "name": "ipython",
    "version": 3
   },
   "file_extension": ".py",
   "mimetype": "text/x-python",
   "name": "python",
   "nbconvert_exporter": "python",
   "pygments_lexer": "ipython3",
   "version": "3.6.3"
  }
 },
 "nbformat": 4,
 "nbformat_minor": 2
}
